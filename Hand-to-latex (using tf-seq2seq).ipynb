{
 "cells": [
  {
   "cell_type": "code",
   "execution_count": 461,
   "metadata": {},
   "outputs": [],
   "source": [
    "import tensorflow as tf\n",
    "import numpy as np\n",
    "\n",
    "from tensorflow.python.layers import core as layers_core\n",
    "\n",
    "from matplotlib import pyplot as plt\n",
    "from tensor2tensor.layers.common_attention import add_timing_signal_nd #currently not in use\n",
    "import cv2\n",
    "import datetime"
   ]
  },
  {
   "cell_type": "code",
   "execution_count": 462,
   "metadata": {},
   "outputs": [],
   "source": [
    "tf.reset_default_graph()"
   ]
  },
  {
   "cell_type": "code",
   "execution_count": 463,
   "metadata": {},
   "outputs": [],
   "source": [
    "### Outline\n",
    "\n",
    "# 1. Encoder\n",
    "# 2. Decoder\n",
    "# 3. Optimization and training\n",
    "\n",
    "# 4. Inference\n",
    "\n",
    "## CONFIG:\n",
    "\n",
    "max_token_length = 50\n",
    "mini_batch_size = 32\n",
    "max_train_num_samples = 400\n",
    "max_val_num_samples = 10\n",
    "use_attention = True # I have not tried without attention so not sure if it breaks\n",
    "use_encoding_average_as_initial_state = True  #Only relevant when use_attention is True.\n",
    "num_units = 512 # LSTM number of units\n",
    "calculate_val_loss = False\n"
   ]
  },
  {
   "cell_type": "code",
   "execution_count": 464,
   "metadata": {},
   "outputs": [],
   "source": [
    "def get_max_shape(data_batch):\n",
    "\n",
    "    max_height = 0\n",
    "    max_width = 0\n",
    "\n",
    "    \n",
    "    \n",
    "    for sample in data_batch:\n",
    "        image = sample[0]\n",
    "        \n",
    "        if image.shape[0] > max_height:\n",
    "            max_height = image.shape[0]\n",
    "\n",
    "        if image.shape[1] > max_width:\n",
    "            max_width = image.shape[1]\n",
    "\n",
    "\n",
    "    return (max_height, max_width)\n",
    "\n",
    "\n",
    "def pad_images(data_batch):\n",
    "\n",
    "    new_data_batch = data_batch\n",
    "    \n",
    "    target_shape = get_max_shape(data_batch)\n",
    "\n",
    "    new_height = target_shape[0]\n",
    "    new_width = target_shape[1]\n",
    "    \n",
    "    for idx, sample in enumerate(data_batch):\n",
    "        padded_image = np.ones((new_height, new_width)) * 255\n",
    "\n",
    "        image = sample[0] # A sample consist of an image (0), a target text (1), and a sequence length (2)\n",
    "        \n",
    "        h = image.shape[0]\n",
    "        w = image.shape[1]\n",
    "\n",
    "        padded_image[:h, :w] = image\n",
    "        \n",
    "        new_data_batch[idx][0] = padded_image\n",
    "\n",
    "    return new_data_batch"
   ]
  },
  {
   "cell_type": "code",
   "execution_count": 465,
   "metadata": {},
   "outputs": [],
   "source": [
    "\n",
    "\n",
    "\n",
    "def load_raw_data(dataset_name, mini_batch_size, max_token_length = 400, max_num_samples = 5000):\n",
    "\n",
    "    buckets_dict = {(40, 160): 0,\n",
    "        (40, 200): 1,\n",
    "        (40, 240): 2,\n",
    "        (40, 280): 3,\n",
    "        (40, 320): 4,\n",
    "        (40, 360): 5,\n",
    "        (50, 120): 6,\n",
    "        (50, 200): 7,\n",
    "        (50, 240): 8,\n",
    "        (50, 280): 9,\n",
    "        (50, 320): 10,\n",
    "        (50, 360): 11,\n",
    "        (50, 400): 12,\n",
    "        (60, 360): 13,\n",
    "        (100, 360): 14,\n",
    "        (100, 500): 15,\n",
    "        (160, 400): 16,\n",
    "        (200, 500): 17,\n",
    "        (800, 800): 18}\n",
    "\n",
    "\n",
    "\n",
    "    buckets = [[], [], [], [], [], [], [], [], [], [], [], [], [], [], [], [], [], [], []]\n",
    "    \n",
    "\n",
    "    \n",
    "    \n",
    "    dataset = []\n",
    "    \n",
    "    if dataset_name == \"small\":\n",
    "        image_folder = 'data/tin/tiny/'\n",
    "        formula_file_path = \"data/tin/tiny.formulas.norm.txt\"\n",
    "    elif dataset_name == \"test\":\n",
    "        image_folder = 'data/images_test/'\n",
    "        formula_file_path = \"data/test.formulas.norm.txt\"\n",
    "    elif dataset_name == \"train\":\n",
    "        image_folder = 'data/images_train/'\n",
    "        formula_file_path = \"data/train.formulas.norm.txt\"\n",
    "    elif dataset_name == \"val\":\n",
    "        image_folder = 'data/images_val/'\n",
    "        formula_file_path = \"data/val.formulas.norm.txt\"\n",
    "    elif dataset_name == \"digital_numbers\":\n",
    "        image_folder = 'datasets/digital_numbers/images/'\n",
    "        formula_file_path = \"datasets/digital_numbers/number_sequences.txt\"\n",
    "\n",
    "        \n",
    "    in_counter = 0\n",
    "    examples_counter = 0\n",
    "    with open (formula_file_path, \"r\") as myfile:\n",
    "\n",
    "        for idx, token_sequence in enumerate(myfile):\n",
    "            \n",
    "            examples_counter += 1\n",
    "            #Check token size:\n",
    "            token_sequence = token_sequence.rstrip('\\n')\n",
    "            tokens = token_sequence.split()\n",
    "\n",
    "            file_name = str(idx) + '.png'\n",
    "            image = cv2.imread(image_folder + file_name, 0)\n",
    "            \n",
    "            if image is None:\n",
    "                print(\"Id:\", idx)\n",
    "                continue\n",
    "            \n",
    "            \n",
    "            \n",
    "            if len(tokens) <= max_token_length:\n",
    "                \n",
    "                token_sequence = '**start** ' + token_sequence\n",
    "                #image = cv2.cvtColor(image, cv2.COLOR_BGR2GRAY) #Grey scale\n",
    "                \n",
    "                \n",
    "                seq_length = len(token_sequence.split())\n",
    "                \n",
    "                relevant_bucket_id = buckets_dict[image.shape]\n",
    "                \n",
    "                \n",
    "                buckets[relevant_bucket_id].append([image, token_sequence, seq_length])\n",
    "\n",
    "                \n",
    "                if len(buckets[buckets_dict[image.shape]]) == mini_batch_size:\n",
    "                    data_batch = np.array(buckets[buckets_dict[image.shape]])\n",
    "                    dataset.append(data_batch)\n",
    "                    buckets[buckets_dict[image.shape]] = []\n",
    "\n",
    "                in_counter += 1\n",
    "  \n",
    "            if in_counter == max_num_samples:\n",
    "                break\n",
    "\n",
    "        #put what's left in the buckets into batches (padding will be needed)  \n",
    "        \n",
    "        counter = 0\n",
    "        \n",
    "        data_batch = []\n",
    "        \n",
    "        for idx, bucket in enumerate(buckets):\n",
    "            \n",
    "            for j, sample in enumerate(bucket):\n",
    "                data_batch.append(sample)\n",
    "                if len(data_batch) == mini_batch_size:\n",
    "                    padded_data_batch = pad_images(data_batch)\n",
    "                    padded_data_batch = np.array(padded_data_batch)\n",
    "                    dataset.append(padded_data_batch)\n",
    "                    data_batch = []\n",
    "            \n",
    "        \n",
    "        padded_data_batch = pad_images(data_batch)\n",
    "        padded_data_batch = np.array(padded_data_batch)\n",
    "        dataset.append(padded_data_batch)\n",
    "        \n",
    "\n",
    "    return dataset"
   ]
  },
  {
   "cell_type": "code",
   "execution_count": null,
   "metadata": {},
   "outputs": [],
   "source": []
  },
  {
   "cell_type": "code",
   "execution_count": null,
   "metadata": {},
   "outputs": [],
   "source": [
    "\n"
   ]
  },
  {
   "cell_type": "code",
   "execution_count": 466,
   "metadata": {},
   "outputs": [],
   "source": [
    "# dataset is list of all batches containing (image, target_text, sequence_length)\n",
    "# we split that up into three lists\n",
    "\n",
    "\n",
    "def split_dataset(dataset):\n",
    "\n",
    "    encoder_input_data_batches = []\n",
    "    target_texts_batches = []\n",
    "    sequence_lengths_batches = []\n",
    "\n",
    "    for batch in range(len(dataset)):\n",
    "        image_batch = dataset[batch][:,0]\n",
    "        image_batch = image_batch.tolist()\n",
    "        image_batch = np.array(image_batch)\n",
    "        # Add one dimension so that the conv net can take it (it expects four dimensions)\n",
    "        image_batch = np.reshape(image_batch, (image_batch.shape[0], image_batch.shape[1], image_batch.shape[2], 1))\n",
    "        image_batch = image_batch.astype('uint8')\n",
    "\n",
    "        \n",
    "        encoder_input_data_batches.append(image_batch)\n",
    "\n",
    "        target_text = dataset[batch][:,1]\n",
    "        target_texts_batches.append(target_text)\n",
    "\n",
    "        decoder_length = dataset[batch][:,2]\n",
    "        decoder_length = np.array(decoder_length, dtype=np.int32)\n",
    "        sequence_lengths_batches.append(decoder_length)\n",
    "\n",
    "    # Make sure we have equal number of batches\n",
    "    assert (len(encoder_input_data_batches) == len(dataset))\n",
    "    assert (len(target_texts_batches) == len(dataset))\n",
    "    assert (len(sequence_lengths_batches) == len(dataset))\n",
    "    \n",
    "    return encoder_input_data_batches, target_texts_batches, sequence_lengths_batches"
   ]
  },
  {
   "cell_type": "code",
   "execution_count": null,
   "metadata": {},
   "outputs": [],
   "source": [
    "\n"
   ]
  },
  {
   "cell_type": "raw",
   "metadata": {},
   "source": []
  },
  {
   "cell_type": "code",
   "execution_count": 467,
   "metadata": {},
   "outputs": [],
   "source": [
    "def get_vocabulary(dataset):\n",
    "    if dataset == \"small\":\n",
    "        vocab = [line for line in open('data/tin/tiny_vocab.txt')]\n",
    "    elif dataset == \"test\":\n",
    "        vocab = [line for line in open('data/vocab.txt')]\n",
    "    elif dataset == \"train\":\n",
    "        vocab = [line for line in open('data/vocab.txt')]\n",
    "\n",
    "    vocab = [x.strip('\\n') for x in vocab]\n",
    "    return vocab"
   ]
  },
  {
   "cell_type": "code",
   "execution_count": 468,
   "metadata": {},
   "outputs": [],
   "source": [
    "# Create the vocabulary\n",
    "\n",
    "token_vocabulary = []\n",
    "token_vocabulary.append(\"**end**\") # Want this to be the first token\n",
    "token_vocabulary.append(\"**start**\")\n",
    "token_vocabulary.append(\"**unknown**\")\n",
    "\n",
    "token_vocabulary.extend(get_vocabulary(\"train\"))\n",
    "\n",
    "target_tokens = token_vocabulary # TODO: Refactor this. Currently duplicate naming\n",
    "\n",
    "token_vocab_size = len(target_tokens)\n",
    "\n",
    "target_token_index = dict(\n",
    "    [(token, i) for i, token in enumerate(target_tokens)])\n",
    "\n",
    "reverse_target_token_index = dict(\n",
    "    (i, char) for char, i in target_token_index.items())"
   ]
  },
  {
   "cell_type": "code",
   "execution_count": 469,
   "metadata": {},
   "outputs": [],
   "source": [
    "     \n",
    "#target_token_index"
   ]
  },
  {
   "cell_type": "code",
   "execution_count": 470,
   "metadata": {},
   "outputs": [],
   "source": [
    "def create_output_int_sequences(target_texts_batches, sequence_lengths_batches):\n",
    "    decoder_input_data_batches = []\n",
    "    decoder_target_data_batches = []\n",
    "    \n",
    "    for idx, target_texts_batch in enumerate(target_texts_batches):\n",
    "    \n",
    "        # get max dec seq length for that batch\n",
    "        max_decoder_seq_length = max(sequence_lengths_batches[idx])\n",
    "\n",
    "        batch_size = len(target_texts_batch)\n",
    "        \n",
    "        decoder_input_data = np.zeros(\n",
    "                (batch_size, max_decoder_seq_length),\n",
    "                dtype='int32')\n",
    "        decoder_target_data = np.zeros(\n",
    "                (batch_size, max_decoder_seq_length),\n",
    "                dtype='int32')\n",
    "\n",
    "        num_other = 0\n",
    "\n",
    "        for i, target_text in enumerate(target_texts_batch):\n",
    "            for t, token in enumerate(target_text.split()):\n",
    "                \n",
    "                if token in target_token_index:\n",
    "                    # decoder_target_data is ahead of decoder_input_data by one timestep\n",
    "\n",
    "                    decoder_input_data[i, t] = target_token_index[token]\n",
    "\n",
    "                    if t > 0:\n",
    "                        #decoder_target_data will be ahead by one timestep\n",
    "                        # and will not include the start character.\n",
    "                        decoder_target_data[i, t - 1] = target_token_index[token]\n",
    "\n",
    "                else:\n",
    "                    print(\"Token not in vocabulary (setting to **unknown**): \", token)\n",
    "                    num_other = num_other + 1\n",
    "                    decoder_input_data[i, t] = target_token_index['**unknown**']\n",
    "\n",
    "                    if t > 0:\n",
    "                        #decoder_target_data will be ahead by one timestep\n",
    "                        # and will not include the start character.\n",
    "\n",
    "                        decoder_target_data[i, t - 1] = target_token_index['**unknown**']\n",
    "\n",
    "            decoder_target_data[i, len(target_text.split()) - 1] = target_token_index['**end**']  \n",
    "            \n",
    "            \n",
    "        \n",
    "        decoder_input_data_batches.append(decoder_input_data)\n",
    "        decoder_target_data_batches.append(decoder_target_data)\n",
    "        \n",
    "    return decoder_input_data_batches, decoder_target_data_batches"
   ]
  },
  {
   "cell_type": "code",
   "execution_count": 471,
   "metadata": {},
   "outputs": [],
   "source": [
    "def load_data(dataset_name, mini_batch_size, max_token_length, max_num_samples):\n",
    "    dataset = load_raw_data(dataset_name, mini_batch_size, max_token_length = max_token_length, max_num_samples = max_num_samples)\n",
    "    \n",
    "    for k in range(len(dataset) - 1):\n",
    "        assert(len(dataset[k]) == mini_batch_size)\n",
    "\n",
    "    \n",
    "    encoder_input_data_batches, target_texts_batches, sequence_lengths_batches = split_dataset(dataset)\n",
    "    decoder_input_data_batches, decoder_target_data_batches = create_output_int_sequences(target_texts_batches, sequence_lengths_batches)    \n",
    "\n",
    "    return encoder_input_data_batches, target_texts_batches, sequence_lengths_batches, decoder_input_data_batches, decoder_target_data_batches\n",
    "\n",
    "\n"
   ]
  },
  {
   "cell_type": "code",
   "execution_count": null,
   "metadata": {},
   "outputs": [],
   "source": [
    "\n",
    "\n",
    "\n",
    "\n"
   ]
  },
  {
   "cell_type": "code",
   "execution_count": 472,
   "metadata": {},
   "outputs": [
    {
     "name": "stdout",
     "output_type": "stream",
     "text": [
      "('Token not in vocabulary (setting to **unknown**): ', '\\\\c')\n"
     ]
    }
   ],
   "source": [
    "train_dataset = load_data('train', mini_batch_size, max_token_length, max_train_num_samples)\n",
    "train_encoder_input_data_batches = train_dataset[0]\n",
    "train_target_texts_batches = train_dataset[1]\n",
    "train_sequence_lengths_batches = train_dataset[2]\n",
    "train_decoder_input_data_batches = train_dataset[3]\n",
    "train_decoder_target_data_batches = train_dataset[4]\n",
    "\n",
    "val_dataset = load_data('train', mini_batch_size, max_token_length, max_val_num_samples)\n",
    "val_encoder_input_data_batches = val_dataset[0]\n",
    "val_target_texts_batches = val_dataset[1]\n",
    "val_sequence_lengths_batches = val_dataset[2]\n",
    "val_decoder_input_data_batches = val_dataset[3]\n",
    "val_decoder_target_data_batches = val_dataset[4]\n",
    "\n",
    "\n",
    "num_train_batches = len(train_target_texts_batches)\n",
    "num_val_batches = len(val_target_texts_batches)\n",
    "\n",
    "num_train_samples = (num_train_batches - 1) * mini_batch_size + train_target_texts_batches[-1].shape[0]\n",
    "num_val_samples = (num_val_batches - 1) * mini_batch_size + val_target_texts_batches[-1].shape[0]"
   ]
  },
  {
   "cell_type": "code",
   "execution_count": 473,
   "metadata": {},
   "outputs": [
    {
     "name": "stdout",
     "output_type": "stream",
     "text": [
      "('Num train batches: ', 13)\n",
      "('Num val batches: ', 1)\n",
      "('Num train samples: ', 400)\n",
      "('Num val samples: ', 10)\n"
     ]
    }
   ],
   "source": [
    "print(\"Num train batches: \", num_train_batches)\n",
    "print(\"Num val batches: \", num_val_batches)\n",
    "\n",
    "print(\"Num train samples: \", num_train_samples)\n",
    "print(\"Num val samples: \", num_val_samples)"
   ]
  },
  {
   "cell_type": "code",
   "execution_count": null,
   "metadata": {},
   "outputs": [],
   "source": []
  },
  {
   "cell_type": "code",
   "execution_count": null,
   "metadata": {},
   "outputs": [],
   "source": []
  },
  {
   "cell_type": "code",
   "execution_count": null,
   "metadata": {},
   "outputs": [],
   "source": []
  },
  {
   "cell_type": "code",
   "execution_count": null,
   "metadata": {},
   "outputs": [],
   "source": [
    "\n"
   ]
  },
  {
   "cell_type": "code",
   "execution_count": null,
   "metadata": {},
   "outputs": [],
   "source": [
    "\n"
   ]
  },
  {
   "cell_type": "code",
   "execution_count": null,
   "metadata": {},
   "outputs": [],
   "source": []
  },
  {
   "cell_type": "code",
   "execution_count": null,
   "metadata": {},
   "outputs": [],
   "source": []
  },
  {
   "cell_type": "code",
   "execution_count": 474,
   "metadata": {},
   "outputs": [
    {
     "data": {
      "image/png": "[encoded data removed]",
      "text/plain": [
       "<matplotlib.figure.Figure at 0x13aaadc50>"
      ]
     },
     "metadata": {},
     "output_type": "display_data"
    },
    {
     "name": "stdout",
     "output_type": "stream",
     "text": [
      "[  1 396 174 396 371  54 398 396 371  86 398 398  29  12 396 174 396 392\n",
      "  86 398 396  86 365 396  62 365 396  16 398 398 364 396  18 398 398 398\n",
      "  64  14   0   0   0   0   0   0   0   0   0   0   0   0]\n",
      "\n",
      "[396 174 396 371  54 398 396 371  86 398 398  29  12 396 174 396 392  86\n",
      " 398 396  86 365 396  62 365 396  16 398 398 364 396  18 398 398 398  64\n",
      "  14   0   0   0   0   0   0   0   0   0   0   0   0   0]\n",
      "**start** { \\frac { d V } { d \\Phi } } = - { \\frac { w \\Phi } { \\Phi _ { \\! _ { 0 } } ^ { 2 } } } \\, .\n"
     ]
    }
   ],
   "source": [
    "\n",
    "plt.imshow(train_encoder_input_data_batches[0][0].squeeze(), cmap='gray')\n",
    "plt.show()\n",
    "\n",
    "\n",
    "print(train_decoder_input_data_batches[0][0])\n",
    "\n",
    "print(\"\")\n",
    "print(train_decoder_target_data_batches[0][0])\n",
    "\n",
    "\n",
    "print(train_target_texts_batches[0][0])"
   ]
  },
  {
   "cell_type": "code",
   "execution_count": null,
   "metadata": {},
   "outputs": [],
   "source": []
  },
  {
   "cell_type": "code",
   "execution_count": 475,
   "metadata": {},
   "outputs": [],
   "source": [
    "\n",
    "\n",
    "tf.reset_default_graph()"
   ]
  },
  {
   "cell_type": "code",
   "execution_count": 476,
   "metadata": {},
   "outputs": [],
   "source": [
    "## Encoder\n",
    "\n",
    "## One of Genthails's encoder implementations (from paper)\n",
    "\n",
    "\n",
    "\n",
    "img = tf.placeholder(tf.uint8, [None, None, None, 1], name='img')\n",
    "\n",
    "img = tf.cast(img, tf.float32) / 255\n",
    "\n",
    "\n",
    "batch_size = tf.shape(img)[0]\n",
    "\n",
    "# Conv + max pooling\n",
    "out = tf.layers.conv2d(img, 64, 3, 1, \"SAME\", activation=tf.nn.relu)\n",
    "# Conv + max pooling\n",
    "out = tf.layers.conv2d(out, 128, 3, 1, \"SAME\", activation=tf.nn.relu)\n",
    "\n",
    "out = tf.layers.conv2d(out, 256, 3, 1, \"SAME\", activation=tf.nn.relu) # regular conv -> id\n",
    "out = tf.layers.batch_normalization(out)\n",
    "\n",
    "\n",
    "out = tf.layers.conv2d(out, 256, 3, 1, \"SAME\", activation=tf.nn.relu) # regular conv -> id\n",
    "out = tf.layers.max_pooling2d(out, (2, 1), (2, 1), \"SAME\")\n",
    "\n",
    "out = tf.layers.conv2d(out, 512, 3, 1, \"SAME\", activation=tf.nn.relu) # regular conv -> id\n",
    "out = tf.layers.max_pooling2d(out, (1, 2), (1, 2), \"SAME\")\n",
    "\n",
    "\n",
    "# Conv valid\n",
    "out = tf.layers.conv2d(out, 512, 3, 1, \"VALID\", activation=tf.nn.relu, name=\"last_conv_layer\") # conv\n",
    "out = tf.layers.batch_normalization(out)\n",
    "\n",
    "## Out is now a H'*W' encoding of the image\n",
    "\n",
    "## We want to turn this into a sequence of vectors: (e1, e2 ... en)\n",
    "#H= out.shape[1]\n",
    "#W= out.shape[2] \n",
    "#C= out.shape[3]\n",
    "\n",
    "H = tf.shape(out)[1]\n",
    "W = tf.shape(out)[2]\n",
    "\n",
    "#out = add_timing_signal_nd(out)\n",
    "seq = tf.reshape(tensor=out, shape=[-1, H*W, 512])\n",
    "\n",
    "# TODO: Add positional encodings"
   ]
  },
  {
   "cell_type": "code",
   "execution_count": 477,
   "metadata": {},
   "outputs": [],
   "source": [
    "# First state of the decoder consists of two vectors, the hidden state (h0) and the memory (c0).\n",
    "# Usually the hidden state refers to [h0, c0]. So a little bit of overloading of hidden state (I think)\n",
    "# This is how Genthail implements it\n",
    "\n",
    "#tf.reset_default_graph()\n",
    "\n",
    "\n",
    "\n",
    "\n",
    "if use_encoding_average_as_initial_state:\n",
    "    img_mean = tf.reduce_mean(seq, axis=1)\n",
    "\n",
    "    img_mean = tf.layers.batch_normalization(img_mean)\n",
    "\n",
    "    W = tf.get_variable(\"W\", shape=[512, num_units])\n",
    "    b = tf.get_variable(\"b\", shape=[num_units])\n",
    "    h0 = tf.tanh(tf.matmul(img_mean, W) + b)\n",
    "\n",
    "    W_ = tf.get_variable(\"W_\", shape=[512, num_units])\n",
    "    b_ = tf.get_variable(\"b_\", shape=[num_units])\n",
    "    c0 = tf.tanh(tf.matmul(img_mean, W_) + b_)\n",
    "\n",
    "\n",
    "    encoder_state = tf.contrib.rnn.LSTMStateTuple(c0, h0)\n"
   ]
  },
  {
   "cell_type": "code",
   "execution_count": null,
   "metadata": {},
   "outputs": [],
   "source": [
    "    "
   ]
  },
  {
   "cell_type": "code",
   "execution_count": 478,
   "metadata": {},
   "outputs": [],
   "source": [
    "#attention_states: [batch_size, max_time, num_units]\n",
    "attention_states = seq\n",
    "\n",
    "\n",
    "attention_depth = num_units\n",
    "\n",
    "# Create an attention mechanism\n",
    "attention_mechanism = tf.contrib.seq2seq.LuongAttention(\n",
    "    attention_depth, attention_states, scale=True) # Can try scale = False"
   ]
  },
  {
   "cell_type": "code",
   "execution_count": null,
   "metadata": {},
   "outputs": [],
   "source": []
  },
  {
   "cell_type": "code",
   "execution_count": 479,
   "metadata": {},
   "outputs": [
    {
     "name": "stdout",
     "output_type": "stream",
     "text": [
      "(?, ?, 80)\n"
     ]
    }
   ],
   "source": [
    "# Decoder: from seq2seq tutorial \n",
    "\n",
    "\n",
    "\n",
    "embedding_size = 80 # In Genthail's paper he says he has 80 embeddings which I believe corresponds to embedding_size\n",
    "\n",
    "decoder_inputs = tf.placeholder(tf.int32, [None, None], name='decoder_inputs')  # Supposed to be a sequence of numbers corresponding to the different tokens in the sentence\n",
    "\n",
    "# Embedding of target tokens\n",
    "\n",
    "# Embedding matrix \n",
    "embedding_decoder = tf.get_variable(\n",
    "    \"embedding_encoder\", [token_vocab_size, embedding_size], tf.float32, initializer=tf.orthogonal_initializer) #  tf.float32 was default in the NMT tutorial\n",
    "\n",
    "\n",
    "\n",
    "# Look up embedding:\n",
    "#   decoder_inputs: [max_time, batch_size]\n",
    "#   decoder_emb_inp: [max_time, batch_size, embedding_size]\n",
    "decoder_emb_inp = tf.nn.embedding_lookup(\n",
    "    embedding_decoder, decoder_inputs)\n",
    "\n",
    "print(decoder_emb_inp.shape)\n"
   ]
  },
  {
   "cell_type": "code",
   "execution_count": 480,
   "metadata": {},
   "outputs": [],
   "source": [
    "\n",
    "# Build RNN cell\n",
    "#decoder_cell = tf.nn.rnn_cell.BasicLSTMCell(num_units)\n",
    "\n",
    "\n",
    "# Using this instead compared to NMT tutorial so we can initialize with orthogonal intializer (like Genthail)\n",
    "decoder_cell = tf.nn.rnn_cell.LSTMCell(\n",
    "    num_units,\n",
    "    initializer=tf.orthogonal_initializer,\n",
    ")\n",
    "\n",
    "\n",
    "if use_attention:\n",
    "    decoder_cell = tf.contrib.seq2seq.AttentionWrapper(\n",
    "        decoder_cell, attention_mechanism,\n",
    "        attention_layer_size=512)\n",
    "\n",
    "    ## Set initial state of decoder to zero (possible to use previous state)\n",
    "\n",
    "    \n",
    "    if use_encoding_average_as_initial_state:\n",
    "        decoder_initial_state = decoder_cell.zero_state(batch_size, tf.float32).clone(cell_state=encoder_state)\n",
    "    else:\n",
    "        decoder_initial_state = decoder_cell.zero_state(batch_size, tf.float32)\n",
    "\n",
    "else:\n",
    "    decoder_initial_state = encoder_state\n",
    "\n",
    "    \n",
    "decoder_lengths = tf.placeholder(tf.int32, [None])\n",
    "\n",
    "# Helper\n",
    "helper = tf.contrib.seq2seq.TrainingHelper(\n",
    "    decoder_emb_inp, decoder_lengths, time_major=False)\n",
    "\n",
    "# Projection layer\n",
    "projection_layer = layers_core.Dense(token_vocab_size, use_bias=False, name=\"output_projection\")# Said layers_core before\n",
    "\n"
   ]
  },
  {
   "cell_type": "code",
   "execution_count": 481,
   "metadata": {},
   "outputs": [],
   "source": [
    "\n",
    "# Decoder\n",
    "decoder = tf.contrib.seq2seq.BasicDecoder(\n",
    "    decoder_cell, helper, decoder_initial_state,\n",
    "    output_layer=projection_layer)\n"
   ]
  },
  {
   "cell_type": "code",
   "execution_count": 482,
   "metadata": {},
   "outputs": [
    {
     "name": "stdout",
     "output_type": "stream",
     "text": [
      "1.5.0-dev20171121\n"
     ]
    },
    {
     "data": {
      "text/plain": [
       "AttentionWrapperState(cell_state=LSTMStateTuple(c=<tf.Tensor 'Tanh_1:0' shape=(?, 512) dtype=float32>, h=<tf.Tensor 'Tanh:0' shape=(?, 512) dtype=float32>), attention=<tf.Tensor 'AttentionWrapperZeroState/zeros_1:0' shape=(?, 512) dtype=float32>, time=<tf.Tensor 'AttentionWrapperZeroState/zeros:0' shape=() dtype=int32>, alignments=<tf.Tensor 'AttentionWrapperZeroState/zeros_2:0' shape=(?, ?) dtype=float32>, alignment_history=())"
      ]
     },
     "execution_count": 482,
     "metadata": {},
     "output_type": "execute_result"
    }
   ],
   "source": [
    "print(tf.__version__)\n",
    "decoder_initial_state"
   ]
  },
  {
   "cell_type": "code",
   "execution_count": 483,
   "metadata": {},
   "outputs": [
    {
     "name": "stdout",
     "output_type": "stream",
     "text": [
      "(?, ?, 400)\n"
     ]
    }
   ],
   "source": [
    "# Dynamic decoding\n",
    "outputs, _, _ = tf.contrib.seq2seq.dynamic_decode(decoder, output_time_major=False)  ## Understand parameter Impute finished\n",
    "logits = outputs.rnn_output\n",
    "print(logits.shape)"
   ]
  },
  {
   "cell_type": "code",
   "execution_count": 484,
   "metadata": {},
   "outputs": [],
   "source": [
    "## Don't move or remove ()\n",
    "\n",
    "\n",
    "# Exponential learning rate\n",
    "#starter_learning_rate = 0.0006\n",
    "#learning_rate = tf.train.exponential_decay(starter_learning_rate, global_step,\n",
    "                                           #5, 0.93, staircase=False)\n",
    "    \n",
    "    \n",
    "    \n",
    "# Piece wise learning rate\n",
    "\n",
    "#steps_per_epoch = num_samples / mini_batch_size\n",
    "\n",
    "global_step = tf.Variable(0, trainable=False)  ## IMPORTANT\n",
    "#boundaries = [30,60, 90, 120, 150, 180, 210, 240]  \n",
    "\n",
    "#boundaries = [steps_per_epoch * epoch ]\n",
    "#values = [0.0001, 0.0001, 0.001, 0.0005, 0.0002, 0.0001, 0.00009, 0.00008, 0.00007]\n",
    "    \n",
    "#learning_rate = tf.train.piecewise_constant(global_step, boundaries, values, name=None)"
   ]
  },
  {
   "cell_type": "code",
   "execution_count": 485,
   "metadata": {},
   "outputs": [],
   "source": [
    "#target_weights = tf.placeholder(tf.int8, [None, None], name='target_weights')\n",
    "#target_weights = tf.cast(target_weights, tf.float32)\n",
    "\n",
    "# Supposed to be a sequence of numbers corresponding to the different tokens in the sentence\n",
    "decoder_outputs = tf.placeholder(tf.int32, [None, None], name='decoder_outputs') \n",
    "\n",
    "\n",
    "learning_rate = tf.placeholder(tf.float32, shape=[])    \n",
    "    \n",
    "# Loss function\n",
    "\n",
    "# HYPERPARAMETER: Should we divide by sequence length on each\n",
    "crossent = tf.nn.sparse_softmax_cross_entropy_with_logits(\n",
    "    labels=decoder_outputs, logits=logits)\n",
    "\n",
    "# Create the target_weights (the masking)\n",
    "max_seq_length = tf.shape(decoder_outputs)[1]\n",
    "target_weights = tf.sequence_mask(decoder_lengths, max_seq_length, dtype=logits.dtype)\n",
    "\n",
    "\n",
    "train_loss = tf.reduce_sum(crossent * target_weights) / tf.cast(batch_size, tf.float32)\n",
    "\n",
    "tf.summary.scalar('loss', train_loss)\n",
    "\n",
    "# Calculate and clip gradients\n",
    "params = tf.trainable_variables()\n",
    "gradients = tf.gradients(train_loss, params)\n",
    "\n",
    "\n",
    "max_gradient_norm = 3  # Usually a number between 1 and 5. Set to 5 in the NMT.\n",
    "\n",
    "clipped_gradients, global_norm = tf.clip_by_global_norm(\n",
    "    gradients, max_gradient_norm)\n",
    "\n",
    "tf.summary.scalar('global_norm', global_norm)\n",
    "\n",
    "\n",
    "# Optimization\n",
    "optimizer = tf.train.AdamOptimizer(learning_rate)\n",
    "update_step = optimizer.apply_gradients(\n",
    "    zip(clipped_gradients, params), global_step=global_step)\n",
    "\n",
    "\n"
   ]
  },
  {
   "cell_type": "code",
   "execution_count": 486,
   "metadata": {},
   "outputs": [
    {
     "name": "stdout",
     "output_type": "stream",
     "text": [
      "INFO:tensorflow:Summary name conv2d/kernel:0/gradient is illegal; using conv2d/kernel_0/gradient instead.\n",
      "INFO:tensorflow:Summary name conv2d/bias:0/gradient is illegal; using conv2d/bias_0/gradient instead.\n",
      "INFO:tensorflow:Summary name conv2d_1/kernel:0/gradient is illegal; using conv2d_1/kernel_0/gradient instead.\n",
      "INFO:tensorflow:Summary name conv2d_1/bias:0/gradient is illegal; using conv2d_1/bias_0/gradient instead.\n",
      "INFO:tensorflow:Summary name conv2d_2/kernel:0/gradient is illegal; using conv2d_2/kernel_0/gradient instead.\n",
      "INFO:tensorflow:Summary name conv2d_2/bias:0/gradient is illegal; using conv2d_2/bias_0/gradient instead.\n",
      "INFO:tensorflow:Summary name batch_normalization/gamma:0/gradient is illegal; using batch_normalization/gamma_0/gradient instead.\n",
      "INFO:tensorflow:Summary name batch_normalization/beta:0/gradient is illegal; using batch_normalization/beta_0/gradient instead.\n",
      "INFO:tensorflow:Summary name conv2d_3/kernel:0/gradient is illegal; using conv2d_3/kernel_0/gradient instead.\n",
      "INFO:tensorflow:Summary name conv2d_3/bias:0/gradient is illegal; using conv2d_3/bias_0/gradient instead.\n",
      "INFO:tensorflow:Summary name conv2d_4/kernel:0/gradient is illegal; using conv2d_4/kernel_0/gradient instead.\n",
      "INFO:tensorflow:Summary name conv2d_4/bias:0/gradient is illegal; using conv2d_4/bias_0/gradient instead.\n",
      "INFO:tensorflow:Summary name last_conv_layer/kernel:0/gradient is illegal; using last_conv_layer/kernel_0/gradient instead.\n",
      "INFO:tensorflow:Summary name last_conv_layer/bias:0/gradient is illegal; using last_conv_layer/bias_0/gradient instead.\n",
      "INFO:tensorflow:Summary name batch_normalization_1/gamma:0/gradient is illegal; using batch_normalization_1/gamma_0/gradient instead.\n",
      "INFO:tensorflow:Summary name batch_normalization_1/beta:0/gradient is illegal; using batch_normalization_1/beta_0/gradient instead.\n",
      "INFO:tensorflow:Summary name batch_normalization_2/gamma:0/gradient is illegal; using batch_normalization_2/gamma_0/gradient instead.\n",
      "INFO:tensorflow:Summary name batch_normalization_2/beta:0/gradient is illegal; using batch_normalization_2/beta_0/gradient instead.\n",
      "INFO:tensorflow:Summary name W:0/gradient is illegal; using W_0/gradient instead.\n",
      "INFO:tensorflow:Summary name b:0/gradient is illegal; using b_0/gradient instead.\n",
      "INFO:tensorflow:Summary name W_:0/gradient is illegal; using W__0/gradient instead.\n",
      "INFO:tensorflow:Summary name b_:0/gradient is illegal; using b__0/gradient instead.\n",
      "INFO:tensorflow:Summary name memory_layer/kernel:0/gradient is illegal; using memory_layer/kernel_0/gradient instead.\n",
      "INFO:tensorflow:Summary name embedding_encoder:0/gradient is illegal; using embedding_encoder_0/gradient instead.\n",
      "INFO:tensorflow:Summary name decoder/attention_wrapper/lstm_cell/kernel:0/gradient is illegal; using decoder/attention_wrapper/lstm_cell/kernel_0/gradient instead.\n",
      "INFO:tensorflow:Summary name decoder/attention_wrapper/lstm_cell/bias:0/gradient is illegal; using decoder/attention_wrapper/lstm_cell/bias_0/gradient instead.\n",
      "INFO:tensorflow:Summary name decoder/attention_wrapper/luong_attention/attention_g:0/gradient is illegal; using decoder/attention_wrapper/luong_attention/attention_g_0/gradient instead.\n",
      "INFO:tensorflow:Summary name decoder/attention_wrapper/attention_layer/kernel:0/gradient is illegal; using decoder/attention_wrapper/attention_layer/kernel_0/gradient instead.\n",
      "INFO:tensorflow:Summary name decoder/output_projection/kernel:0/gradient is illegal; using decoder/output_projection/kernel_0/gradient instead.\n",
      "INFO:tensorflow:Summary name conv2d/kernel:0/weight is illegal; using conv2d/kernel_0/weight instead.\n",
      "INFO:tensorflow:Summary name conv2d/bias:0/weight is illegal; using conv2d/bias_0/weight instead.\n",
      "INFO:tensorflow:Summary name conv2d_1/kernel:0/weight is illegal; using conv2d_1/kernel_0/weight instead.\n",
      "INFO:tensorflow:Summary name conv2d_1/bias:0/weight is illegal; using conv2d_1/bias_0/weight instead.\n",
      "INFO:tensorflow:Summary name conv2d_2/kernel:0/weight is illegal; using conv2d_2/kernel_0/weight instead.\n",
      "INFO:tensorflow:Summary name conv2d_2/bias:0/weight is illegal; using conv2d_2/bias_0/weight instead.\n",
      "INFO:tensorflow:Summary name batch_normalization/gamma:0/weight is illegal; using batch_normalization/gamma_0/weight instead.\n",
      "INFO:tensorflow:Summary name batch_normalization/beta:0/weight is illegal; using batch_normalization/beta_0/weight instead.\n",
      "INFO:tensorflow:Summary name conv2d_3/kernel:0/weight is illegal; using conv2d_3/kernel_0/weight instead.\n",
      "INFO:tensorflow:Summary name conv2d_3/bias:0/weight is illegal; using conv2d_3/bias_0/weight instead.\n",
      "INFO:tensorflow:Summary name conv2d_4/kernel:0/weight is illegal; using conv2d_4/kernel_0/weight instead.\n",
      "INFO:tensorflow:Summary name conv2d_4/bias:0/weight is illegal; using conv2d_4/bias_0/weight instead.\n",
      "INFO:tensorflow:Summary name last_conv_layer/kernel:0/weight is illegal; using last_conv_layer/kernel_0/weight instead.\n",
      "INFO:tensorflow:Summary name last_conv_layer/bias:0/weight is illegal; using last_conv_layer/bias_0/weight instead.\n",
      "INFO:tensorflow:Summary name batch_normalization_1/gamma:0/weight is illegal; using batch_normalization_1/gamma_0/weight instead.\n",
      "INFO:tensorflow:Summary name batch_normalization_1/beta:0/weight is illegal; using batch_normalization_1/beta_0/weight instead.\n",
      "INFO:tensorflow:Summary name batch_normalization_2/gamma:0/weight is illegal; using batch_normalization_2/gamma_0/weight instead.\n",
      "INFO:tensorflow:Summary name batch_normalization_2/beta:0/weight is illegal; using batch_normalization_2/beta_0/weight instead.\n",
      "INFO:tensorflow:Summary name W:0/weight is illegal; using W_0/weight instead.\n",
      "INFO:tensorflow:Summary name b:0/weight is illegal; using b_0/weight instead.\n",
      "INFO:tensorflow:Summary name W_:0/weight is illegal; using W__0/weight instead.\n",
      "INFO:tensorflow:Summary name b_:0/weight is illegal; using b__0/weight instead.\n",
      "INFO:tensorflow:Summary name memory_layer/kernel:0/weight is illegal; using memory_layer/kernel_0/weight instead.\n",
      "INFO:tensorflow:Summary name embedding_encoder:0/weight is illegal; using embedding_encoder_0/weight instead.\n",
      "INFO:tensorflow:Summary name decoder/attention_wrapper/lstm_cell/kernel:0/weight is illegal; using decoder/attention_wrapper/lstm_cell/kernel_0/weight instead.\n",
      "INFO:tensorflow:Summary name decoder/attention_wrapper/lstm_cell/bias:0/weight is illegal; using decoder/attention_wrapper/lstm_cell/bias_0/weight instead.\n",
      "INFO:tensorflow:Summary name decoder/attention_wrapper/luong_attention/attention_g:0/weight is illegal; using decoder/attention_wrapper/luong_attention/attention_g_0/weight instead.\n",
      "INFO:tensorflow:Summary name decoder/attention_wrapper/attention_layer/kernel:0/weight is illegal; using decoder/attention_wrapper/attention_layer/kernel_0/weight instead.\n",
      "INFO:tensorflow:Summary name decoder/output_projection/kernel:0/weight is illegal; using decoder/output_projection/kernel_0/weight instead.\n"
     ]
    }
   ],
   "source": [
    "param_names = [v.name for v in params]\n",
    "\n",
    "gradient_names = [g.name for g in gradients]\n",
    "\n",
    "gradient_norms = [tf.norm(gradient) for gradient in gradients]\n",
    "\n",
    "\n",
    "grads = list(zip(gradients, params))\n",
    "\n",
    "\n",
    "\n",
    "for grad, var in grads:\n",
    "    tf.summary.histogram(var.name + '/gradient', grad)\n",
    "\n",
    "for param in params:\n",
    "    to_summary = tf.summary.histogram(param.name + '/weight', param)\n"
   ]
  },
  {
   "cell_type": "code",
   "execution_count": 487,
   "metadata": {},
   "outputs": [],
   "source": [
    "# Creating the mask\n",
    "\n",
    "#decoder_mask_data = np.zeros(shape=(decoder_target_data.shape), dtype=np.int8)\n",
    "#for idx, decoder_length in enumerate(decoder_lengths_data):\n",
    "    #decoder_mask_data[idx, :(decoder_length)] = np.ones((1, decoder_length))\n",
    "    "
   ]
  },
  {
   "cell_type": "code",
   "execution_count": null,
   "metadata": {},
   "outputs": [],
   "source": []
  },
  {
   "cell_type": "code",
   "execution_count": 488,
   "metadata": {},
   "outputs": [],
   "source": [
    "# Check so all the input data has the same number of examples\n",
    "\n",
    "\n"
   ]
  },
  {
   "cell_type": "code",
   "execution_count": 489,
   "metadata": {},
   "outputs": [],
   "source": [
    "sess = tf.Session()\n",
    "\n",
    "merged = tf.summary.merge_all()\n",
    "train_writer = tf.summary.FileWriter('summaries/train/',\n",
    "                                      sess.graph)\n",
    "\n",
    "init = tf.global_variables_initializer()\n",
    "saver = tf.train.Saver()\n",
    "\n",
    "sess.run(init)\n"
   ]
  },
  {
   "cell_type": "code",
   "execution_count": null,
   "metadata": {},
   "outputs": [],
   "source": []
  },
  {
   "cell_type": "code",
   "execution_count": null,
   "metadata": {},
   "outputs": [],
   "source": []
  },
  {
   "cell_type": "code",
   "execution_count": 490,
   "metadata": {},
   "outputs": [],
   "source": [
    "\n",
    "# Learning rate_schedule\n",
    "\n",
    "# Epoch 0 - 2: Warmup with a lower learning rate: (1e-4)\n",
    "# Epoch 3 - 6: (5e-4)\n",
    "# Epoch 7 - 20: Exponentially decaying from (5e-4) to (1e-5)\n",
    "\n",
    "\n",
    "def get_learning_rate(global_step):\n",
    "    \n",
    "    epoch = int(float(global_step) / num_train_batches)\n",
    "    \n",
    "    \n",
    "    if epoch < 3:\n",
    "        #Warm up\n",
    "        lr_rate = 0.0001\n",
    "    elif epoch < 6:\n",
    "        lr_rate = 0.0005\n",
    "    elif epoch < 16:\n",
    "        # Over 10 epochs decay learning rate from 0.0005 to 0.00001\n",
    "    \n",
    "        decay_rate = 0.00001 / 0.0005\n",
    "        decay_steps = num_train_batches * 10\n",
    "        lr_rate = base_learning_rate * decay_rate ** (float((global_step - num_train_batches * 6)) / decay_steps)\n",
    "    else:\n",
    "        lr_rate = 0.00001\n",
    "    return lr_rate"
   ]
  },
  {
   "cell_type": "code",
   "execution_count": null,
   "metadata": {},
   "outputs": [],
   "source": []
  },
  {
   "cell_type": "code",
   "execution_count": 491,
   "metadata": {},
   "outputs": [
    {
     "data": {
      "image/png": "[encoded data removed]",
      "text/plain": [
       "<matplotlib.figure.Figure at 0x12fec1dd0>"
      ]
     },
     "metadata": {},
     "output_type": "display_data"
    }
   ],
   "source": [
    "learning_rates = []\n",
    "\n",
    "\n",
    "for step in range(num_train_batches*20):\n",
    "    learning_rates.append(get_learning_rate(step))\n",
    "\n",
    "plt.title('Learning rate (10^) over the steps')\n",
    "plt.ylabel('learning rate (10 ^)')\n",
    "plt.xlabel('steps #')\n",
    "plt.plot(np.log10(learning_rates))\n",
    "plt.show()"
   ]
  },
  {
   "cell_type": "code",
   "execution_count": 492,
   "metadata": {},
   "outputs": [],
   "source": [
    "def get_validation_loss():\n",
    "    #num_val_batches = len(val_sequence_lengths_batches)\n",
    "    val_loss = 0    \n",
    "    \n",
    "    for i in range(num_val_batches):\n",
    "\n",
    "\n",
    "        input_data = {img: val_encoder_input_data_batches[i],\n",
    "                                        decoder_lengths: val_sequence_lengths_batches[i],\n",
    "                                         decoder_inputs: val_decoder_input_data_batches[i],\n",
    "                                          decoder_outputs: val_decoder_target_data_batches[i],\n",
    "                                         }\n",
    "   \n",
    "\n",
    "        output_tensors = [train_loss]\n",
    "\n",
    "        loss = sess.run(output_tensors, \n",
    "                               feed_dict=input_data)\n",
    "\n",
    "        \n",
    "        print(loss)\n",
    "        val_loss = val_loss + loss[0]\n",
    "        \n",
    "\n",
    "    val_loss = val_loss / len(val_decoder_input_data_batches[i])\n",
    "\n",
    "    return val_loss"
   ]
  },
  {
   "cell_type": "code",
   "execution_count": 493,
   "metadata": {},
   "outputs": [
    {
     "name": "stdout",
     "output_type": "stream",
     "text": [
      "('Num batches: ', 13)\n",
      "[38 23 27 39 26 14 38 16 38 42 25 23 32 13 36 22 25 30 50 20 20 15 26 26 25\n",
      " 25 24  7 29 28 35 26]\n",
      "(32, 50, 120, 1)\n"
     ]
    }
   ],
   "source": [
    "print(\"Num batches: \", len(train_sequence_lengths_batches)) #(Note: they are not necessarily equal size towards the end (this will fix later))\n",
    "\n",
    "\n",
    "train_decoder_target_data_batches\n",
    "\n",
    "print(train_sequence_lengths_batches[0])\n",
    "\n",
    "print(train_encoder_input_data_batches[0].shape)\n",
    "\n",
    "\n",
    "#train_decoder_input_data_batches[0][0] = np.array(train_decoder_input_data_batches[0][0])\n",
    "train_decoder_target_data_batches[0][0] = np.array(train_decoder_target_data_batches[0][0])\n",
    "\n"
   ]
  },
  {
   "cell_type": "code",
   "execution_count": 494,
   "metadata": {},
   "outputs": [
    {
     "name": "stdout",
     "output_type": "stream",
     "text": [
      "(32,)\n",
      "(32, 50)\n",
      "(32, 50)\n"
     ]
    }
   ],
   "source": [
    "#print(train_decoder_input_data_batches[0].shape)\n",
    "\n",
    "print(train_sequence_lengths_batches[0].shape)\n",
    "print(train_decoder_target_data_batches[0].shape)\n",
    "print(train_decoder_input_data_batches[0].shape)\n",
    "\n"
   ]
  },
  {
   "cell_type": "code",
   "execution_count": null,
   "metadata": {},
   "outputs": [
    {
     "name": "stdout",
     "output_type": "stream",
     "text": [
      "('Total number of parameters: ', 8313857)\n"
     ]
    }
   ],
   "source": [
    "total_parameters = 0\n",
    "# Get total number of parameters\n",
    "\n",
    "for variable in tf.trainable_variables():\n",
    "    # shape is an array of tf.Dimension\n",
    "    shape = variable.get_shape()\n",
    "    #print(shape)\n",
    "    #print(len(shape))\n",
    "    variable_parameters = 1\n",
    "    for dim in shape:\n",
    "        #print(dim)\n",
    "        variable_parameters *= dim.value\n",
    "    #print(variable_parameters)\n",
    "    total_parameters += variable_parameters\n",
    "print(\"Total number of parameters: \", total_parameters)"
   ]
  },
  {
   "cell_type": "code",
   "execution_count": null,
   "metadata": {},
   "outputs": [
    {
     "name": "stdout",
     "output_type": "stream",
     "text": [
      "('Num batches: ', 13)\n",
      "('Epoch: ', 0)\n",
      "('i: ', 0)\n",
      "Step 1: loss = 236.06\n",
      "('Learning rate: ', array(9.999999747378752e-05, dtype=float32))\n",
      "('Global grad norm: ', 2947.5652)\n",
      "('Time for batch in seconds: ', 93.786908)\n",
      "('i: ', 1)\n",
      "Step 2: loss = 204.12\n",
      "('Learning rate: ', array(9.999999747378752e-05, dtype=float32))\n",
      "('Global grad norm: ', 5095.9351)\n",
      "('Time for batch in seconds: ', 185.984883)\n"
     ]
    }
   ],
   "source": [
    "## TODO Implement checkpoints\n",
    "\n",
    "num_epochs = 3\n",
    "val_losses = []\n",
    "print(\"Num batches: \", num_train_batches)\n",
    "\n",
    "\n",
    "glob_step = sess.run(global_step) # Get what global step we are at in training already (so that the learning_rate is set correct)\n",
    "\n",
    "for epoch in range(num_epochs):\n",
    "\n",
    "    for i in range(num_train_batches):\n",
    "        \n",
    "        # Calculate running time for batch1 and batch2 ( since they are both a bit different)\n",
    "        if i == 0 or i == 1:\n",
    "            start_time = datetime.datetime.now()\n",
    "        \n",
    "        \n",
    "        # Calculate the right learning rate for this step.\n",
    "        lrate = get_learning_rate(glob_step)\n",
    "        \n",
    "        \n",
    "        input_data = {img: train_encoder_input_data_batches[i],\n",
    "                                        decoder_lengths: train_sequence_lengths_batches[i],\n",
    "                                         decoder_inputs: train_decoder_input_data_batches[i],\n",
    "                                          decoder_outputs: train_decoder_target_data_batches[i],\n",
    "                                          learning_rate: lrate\n",
    "                                         }\n",
    "        \n",
    "        \n",
    "        # Only catch important info for tracking in the beginning of the epoch\n",
    "        if (i == 0):\n",
    "            output_tensors = [merged, update_step,train_loss, optimizer._lr, global_norm, gradient_norms, global_step]\n",
    "            summary, _, loss, lr_rate, global_grad_norm, grad_norms, glob_step = sess.run(output_tensors, \n",
    "                               feed_dict=input_data)\n",
    "            \n",
    "            train_writer.add_summary(summary, glob_step)\n",
    "            \n",
    "        else:\n",
    "            output_tensors = [update_step, train_loss, global_norm, global_step, optimizer._lr]\n",
    "            _, loss, global_grad_norm, glob_step, lr_rate  = sess.run(output_tensors, \n",
    "                               feed_dict=input_data)\n",
    "\n",
    "\n",
    "        if i == 0:\n",
    "            print(\"Epoch: \", epoch)\n",
    "            \n",
    "\n",
    "        print(\"i: \", i)\n",
    "        print('Step %d: loss = %.2f' % (glob_step, loss))\n",
    "        print(\"Learning rate: \", lr_rate)\n",
    "        print(\"Global grad norm: \", global_grad_norm)\n",
    "\n",
    "        if i == 0 or i == 1: \n",
    "            end_time = datetime.datetime.now()\n",
    "            \n",
    "            delta = end_time - start_time\n",
    "            print(\"Time for batch in seconds: \", delta.total_seconds())\n",
    "        \n",
    "        # Write to tensorboard every 10th step\n",
    "        if glob_step % 40 == 0:\n",
    "            train_writer.add_summary(summary, glob_step)\n",
    "        ## Run the following in terminal to get up tensorboard: tensorboard --logdir=summaries/train        \n",
    "        \n",
    "        # TODO Add saving of checkpoint every now and then\n",
    "        \n",
    "    if calculate_val_loss:\n",
    "        val_loss = get_validation_loss()\n",
    "        val_losses.append(val_loss)\n",
    "        print(\"Val loss: \", val_loss)\n",
    "        \n"
   ]
  },
  {
   "cell_type": "code",
   "execution_count": null,
   "metadata": {},
   "outputs": [],
   "source": []
  },
  {
   "cell_type": "code",
   "execution_count": null,
   "metadata": {},
   "outputs": [],
   "source": [
    "\n",
    "\n",
    "saver.save(sess, 'my-test-model')"
   ]
  },
  {
   "cell_type": "code",
   "execution_count": null,
   "metadata": {},
   "outputs": [],
   "source": []
  },
  {
   "cell_type": "code",
   "execution_count": 144,
   "metadata": {},
   "outputs": [],
   "source": [
    "#inference\n",
    "\n",
    "tgt_sos_id = target_token_index['**start**'] # 1\n",
    "tgt_eos_id = target_token_index['**end**'] # 0\n",
    "\n",
    "\n",
    "batch_for_inference = train_encoder_input_data_batches[0]\n",
    "inference_batch_size = len(batch_for_inference)\n",
    "\n",
    "# Helper\n",
    "inference_helper = tf.contrib.seq2seq.GreedyEmbeddingHelper(\n",
    "    embedding_decoder,\n",
    "    tf.fill([inference_batch_size], tgt_sos_id), tgt_eos_id)\n",
    "\n",
    "maximum_iterations = 15 # Do max seq_length or find some other heuristic\n",
    "\n",
    "# Decoder\n",
    "inference_decoder = tf.contrib.seq2seq.BasicDecoder(\n",
    "    decoder_cell, inference_helper, decoder_initial_state,\n",
    "    output_layer=projection_layer)\n",
    "# Dynamic decoding\n",
    "outputs, _, _ = tf.contrib.seq2seq.dynamic_decode(\n",
    "    inference_decoder, maximum_iterations=maximum_iterations)\n",
    "translations = outputs.sample_id\n",
    "\n",
    "\n",
    "trans = sess.run(translations, feed_dict = {img: batch_for_inference})"
   ]
  },
  {
   "cell_type": "code",
   "execution_count": null,
   "metadata": {},
   "outputs": [],
   "source": []
  },
  {
   "cell_type": "code",
   "execution_count": 145,
   "metadata": {},
   "outputs": [
    {
     "data": {
      "text/plain": [
       "array([[ 49,  49, 161, 161, 161,  48,  48,  48,  48,  48,  48,  48,  48,\n",
       "         48,  48],\n",
       "       [ 49, 161, 161, 161, 161, 161, 161, 161, 161, 161, 161, 161, 161,\n",
       "        161, 161],\n",
       "       [ 49,  49,  49,  49, 161, 161, 161, 161, 161, 161, 161, 161, 161,\n",
       "        161, 161]], dtype=int32)"
      ]
     },
     "execution_count": 145,
     "metadata": {},
     "output_type": "execute_result"
    }
   ],
   "source": [
    "\n",
    "\n",
    "trans\n",
    "\n",
    "\n"
   ]
  },
  {
   "cell_type": "code",
   "execution_count": null,
   "metadata": {},
   "outputs": [],
   "source": []
  },
  {
   "cell_type": "code",
   "execution_count": 152,
   "metadata": {},
   "outputs": [],
   "source": [
    "def get_token_seq(int_sequence):\n",
    "    \n",
    "    output_string = \"\"\n",
    "    for value in int_sequence:\n",
    "        output_string += reverse_target_token_index[value] + \" \"\n",
    "        if reverse_target_token_index[value] == \"**end**\":\n",
    "            break\n",
    "    return output_string"
   ]
  },
  {
   "cell_type": "code",
   "execution_count": 153,
   "metadata": {},
   "outputs": [
    {
     "name": "stdout",
     "output_type": "stream",
     "text": [
      "Output: \n",
      "Q Q \\end{array} \\end{array} \\end{array} P P P P P P P P P P \n",
      "\n",
      "Ground truth: \n",
      "**start** \\, ^ { * } d \\, ^ { * } H = \\kappa \\, ^ { * } d \\phi = J _ { B } .\n",
      "\n",
      "Output: \n",
      "Q \\end{array} \\end{array} \\end{array} \\end{array} \\end{array} \\end{array} \\end{array} \\end{array} \\end{array} \\end{array} \\end{array} \\end{array} \\end{array} \\end{array} \n",
      "\n",
      "Ground truth: \n",
      "**start** ( { \\cal L } _ { a } g ) _ { i j } = 0 , \\ \\ \\ \\ ( { \\cal L } _ { a } H ) _ { i j k } = 0 ,\n",
      "\n",
      "Output: \n",
      "Q Q Q Q \\end{array} \\end{array} \\end{array} \\end{array} \\end{array} \\end{array} \\end{array} \\end{array} \\end{array} \\end{array} \\end{array} \n",
      "\n",
      "Ground truth: \n",
      "**start** \\hat { N } _ { 3 } = \\sum \\sp f _ { j = 1 } a _ { j } \\sp { \\dagger } a _ { j } \\, .\n",
      "\n"
     ]
    }
   ],
   "source": [
    "\n",
    "for idx, seq in enumerate(train_target_texts_batches[0]):\n",
    "    \n",
    "    print(\"Output: \")\n",
    "    print(get_token_seq(trans[idx]))\n",
    "    print(\"\")\n",
    "    print(\"Ground truth: \")\n",
    "    print(train_target_texts_batches[0][idx])\n",
    "    print(\"\")"
   ]
  },
  {
   "cell_type": "code",
   "execution_count": null,
   "metadata": {},
   "outputs": [],
   "source": []
  },
  {
   "cell_type": "code",
   "execution_count": null,
   "metadata": {},
   "outputs": [],
   "source": []
  }
 ],
 "metadata": {
  "kernelspec": {
   "display_name": "Python 2",
   "language": "python",
   "name": "python2"
  },
  "language_info": {
   "codemirror_mode": {
    "name": "ipython",
    "version": 2
   },
   "file_extension": ".py",
   "mimetype": "text/x-python",
   "name": "python",
   "nbconvert_exporter": "python",
   "pygments_lexer": "ipython2",
   "version": "2.7.14"
  }
 },
 "nbformat": 4,
 "nbformat_minor": 2
}
