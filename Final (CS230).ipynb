{
 "cells": [
  {
   "cell_type": "markdown",
   "metadata": {},
   "source": [
    "## Turning Equations into LaTeX using an attention based seq2seq model\n",
    "CS230<br>\n",
    "Adam Jensen, Henrik Marklund<br>\n",
    "oojensen@stanford.edu, marklund@stanford.edu<br>\n",
    "\n",
    "This is a joint project with CS229 where we also try a more traditional approach using a multi-stage pipeline.\n",
    "\n",
    "### 1. Background\n",
    "We were typing up our CS229 homework and realized that we were spending more time on LaTeX than the actual homework. We did a quick informal survey amongst students in the Huang basement who concurred: yes, typesetting is a major inconvenience! Many said they spent over 5 and 10 hours per homework in CS221 and CS229 respectively. Another typical response was: “I chose not to typeset on the last CS229 homework, as I did not have time”.<br>\n",
    "\n",
    "There is currently no good solution for converting handwritten notes into LateX. As a consequence, STEM students around the world struggle. The long term goal is to train an algorithm that takes a scan of your a4 page and turns it into latex typesetting. <br>\n",
    "\n",
    "We limit the scope of this project to:\n",
    "- Create a seq-to-seq model with attention turning images of digital equations into latex. <br>\n",
    "\n",
    "This is also a request-for-research at OpenAI: https://openai.com/requests-for-research/#im2latex \n",
    "\n",
    "\n",
    "### 2. Dataset\n",
    "__[Deng et al., 2016](https://arxiv.org/pdf/1609.04938.pdf)__) at Harvard crawled arXiv for mathematical equations and gathered a 100k equations.  This is known as the im2latex-100k dataset.  Each training example is: pixels of a rendered latex equation, matched with ground-truth markup LaTeX.  The images range from 40 x 160 pixels up to much larger sizes.  We filtered out all equations with more than 70 tokens due to memory constraints of our GPU.  After filtering, we had 54,766 training images, 6,032 dev and 6,335 test.\n",
    "\n",
    "\n",
    "Guilluame Genthial at Stanford was kind enough to send us his generated images (as this takes quite some time). We do some additional processing (padding, and additional downsampling for some of our experiments).\n",
    "\n",
    "Here is an example image with corresponding latex:\n",
    "\n",
    "\n",
    "__Latex__:\n",
    "\\widetilde \\gamma \\_ { \\mathrm { h o p f } } \\simeq \\sum \\_ { n > 0 } \\widetilde { G } \\_ { n } { \\frac { ( - a ) ^ { n } } { 2 ^ { 2 n - 1 } } }\n",
    "\n",
    "##### Histogram: Sequence lengths\n",
    "<img src=\"model_visualizations/token_lengths.jpg\" height=\"40%\" width=\"40%\" alt=\"Learning rate schedule\" title=\"Learning rate\" />\n",
    "\n",
    "\n",
    "Further down in the notebook you will see more examples and more details about the dataset.\n",
    "\n",
    "### 3. Progress through the projeect (sequential):\n",
    "\n",
    "__1. Dataset loaded and processed.__ <br>\n",
    "We have approx 70k images with corresponding latex loaded and preprocessed.<br><br>\n",
    "__2. Encoder-Decoder model up and running in Keras.__ <br><br>\n",
    "__3. Overfit to 10 examples__<br>\n",
    "After introducing Batch Normalization we managed to overfit to 10 examples. At this point, still hard to overfit to many more examples.<br><br>\n",
    "__4. Training with decreasing loss on 40k pairs of (image, sequence)__ <br>\n",
    "Training is really slow which makes it important that we are systematic and smart about our experiments going forward.\n",
    "Implemented Clip Gradient and a Learning rate schedule.<br><br>\n",
    "__5. Created an analogous but less complex problem for debuggin purposes.__ <br>\n",
    "Since it was hard to know why it was so hard overfitting to a larger number of examples we created a simpler but analogous problem: turning pictures of text into text (but treating each character as a separate token to keep the problem analogous). Training was a lot easier, and we could much more easily overfit on a larger number training examples.<br><br>\n",
    "__6. Switched to TensorFlow and the Seq2seq library.__ <br><br>\n",
    "__7. The original Keras model (without attention) is working.__ <br>\n",
    "Our original mistake was that we did not train the for long enough. By getting the model up on a GPU we could train a lot faster and realize that the model was actually working.<br><br>\n",
    "__8. Tensorflow model with attention working and improving performance a lot.__ <br>\n",
    "\n",
    "\n",
    "\n",
    "### 4. The model\n",
    "\n",
    "#### Overview\n",
    "Our model is based on a typical seq-to-seq model for translation. We started out with a seq-to-seq model for translation in Keras using LSTM (__[Described by Francois Chollet](https://blog.keras.io/a-ten-minute-introduction-to-sequence-to-sequence-learning-in-keras.html)__. No attention. We replaced the encoder with a convolution neural network as described by in the paper __[Image to Latex by Genthial & Sauvestre (2016)](http://cs231n.stanford.edu/reports/2017/pdfs/815.pdf)__.  We have one model for training and one model for inference (using the weights from the first model).<br><br>\n",
    "\n",
    "After having tried the model without attention we switched to Tensorflow and used the seq2seq library to implement attention. We used the translation model described __[here](https://github.com/tensorflow/nmt)__ as a sarting point and switched out the encoder to a convolutional neural net.\n",
    "\n",
    "#### Encoder\n",
    "We try three different encoder (differing in how many maxpool layers there are). The convolutional network design is one of the architectures found __[here](https://github.com/guillaumegenthial/im2latex/blob/master/model/encoder.py)__. In our winning model we\n",
    "\n",
    "<img src=\"model_visualizations/encoder.jpg\" height=\"40%\" width=\"40%\" alt=\"Encoder\" title=\"Encoder (convnet2)\" />\n",
    "\n",
    "#### Decoder\n",
    "We try two different decoders, one with attention and one without.  \n",
    "\n",
    "##### Without attention\n",
    "The model without an attention mechanism is implemented in Keras. It uses the average of the encoding vectors to generate the initial hidden state of the LSTM as described by Genthial & Sauvestre: \n",
    "<img src=\"model_visualizations/decoder_without_attention.jpg\" height=\"40%\" width=\"40%\" />\n",
    "\n",
    "\n",
    "##### With attention\n",
    "The model  with attention is implemented in Tensorflow using the seq2seq library. Our attention setup is the same as described in Luong et al (2017) with the initial LSTM state being zero vectors (see figure). In the Attention step an importance score is calculated for each encoded vector e based on the current hidden state ht. We use scaled Luong scoring as described in Luong et al (2017). These scores are used to generate a weighted average of the encoded image. This weighted average ēt is called the context vector and is concatenated with ht in order to generate the attention vector at. The attention vector is fed back into the LSTM as well as used to generate the next token via softmax layer. This attention wrapper lets the decoder attend to different parts of the image at each time step. In this model we use an embedding layer with embedding size 80 just like Genthial & Sauvestre.\n",
    "\n",
    "<img src=\"model_visualizations/decoder_with_attention.jpg\" height=\"40%\" width=\"40%\" />\n",
    "\n",
    "\n",
    "### 5. Training\n",
    "We apply forced teaching: we feed in the correct token to the LSTM at each time step.     We used Adam mini-batch optimization, a mini-batch size \n",
    "of 16, and clipped gradients at a max norm of 3.\n",
    "\n",
    "#### Learning Schedule\n",
    "We implemented a learning schedule very similar to Genthial’s. It utilizes a warm-up period of three epochs, then after 6 epochs, the rate starts decaying exponentially for 6 epochs.\n",
    "\n",
    "<img src=\"model_visualizations/learning_rate_schedule.jpg\" height=\"40%\" width=\"40%\" alt=\"Learning rate schedule\" title=\"Learning rate\" />\n",
    "\n",
    "#### Other parameters\n",
    "Mini-batch size: 16\n",
    "Gradient norm clipping: 3\n",
    "Optimizer: Adam (beta1 = 0.9, beta2 = 0.999)\n",
    "\n",
    "#### Train and validation loss\n",
    "Our cost function is cross entropy loss summed over all the tokens in a decompiled markup sequence. Thus, longer sequences will almost invariably have higher costs. Our winning model trained for 12 epochs on a GPU which took 18 hours. Here is training and validation loss over the epochs for our winning model:\n",
    "\n",
    "<img src=\"model_visualizations/train_and_val_loss.jpg\" height=\"40%\" width=\"40%\" alt=\"Train and validation loss\"/>\n",
    "\n",
    "\n",
    "### 6. Results\n",
    "\n",
    "#### Experiments\n",
    "In the table, we show the results on the validation set of a s subset of experiments performed. The attention model is our best model.\n",
    "\n",
    "| Hyperparameters |                  |            | Results     |                |               |\n",
    "|-----------------|------------------|------------|-------------|----------------|---------------|\n",
    "| Encoder         | Decoder          | downsample | Exact Match | Token accuracy | Edit distance (per 10) |\n",
    "| Convnet1        | No attent.       | 0.6        | 0           | 21.06          | 6.5           |\n",
    "| Convnet1        | No attent        | 0.9        | 0           | 20.19          | 7.5           |\n",
    "| Convnet2        | No attent.       | 0.6        | 0           | 18.7 %         | 6.8           |</b>\n",
    "| <b>Convnet2</b>        | <b>Attention</b>        | <b>None</b>       | <b>17.0%</b>       | <b>47.7</b>           | <b>3.3</b>           |\n",
    "| Benchmark:       Genthial & Sauvestre (2016)  |            |          | 22%            | N/A           | N/A |\n",
    "\n",
    "The benchmark Genthial & Sauvestre (2016) is when they use Greedy Search just like us. They boost their performance to 33% when using Beam Search (which we have not implemented yet). To make the results more comparable we used the results they got when using Greedy Search.\n",
    "\n",
    "- Exact match: How many of the predicted latex sequences match the ground truth latex completely.\n",
    "- Token accuracy. We check token by token and see how many percent are accurate\n",
    "- Edit distance: how many edits need to be made per 10 tokens to reach ground truth on average\n",
    "\n",
    "#### Performance on the test set:\n",
    "We evaluate our winning model on the test set and get the following result:\n",
    "\n",
    "| Hyperparameters |           |            | Results     |                |               |\n",
    "|-----------------|-----------|------------|-------------|----------------|---------------|\n",
    "| Encoder         | Decoder   | downsample | Exact Match | Token accuracy | Edit distance (per 10) |\n",
    "| Convnet2        | Attention | None       | 17.2%       | 48.4           | 2.9           |\n",
    "\n",
    "\n",
    "As Genthial & Sauvestre (2016) points out. Using these measures might result in underestimating the performance of the model since 1) the ground truth is not completely normalized, though mostly (there are more than one way to write a sequence. Take this (prediction, ground truth) pair as an example:\n",
    "\n",
    "#### Example predictions\n",
    "<b>Input</b><br>\n",
    "<img src=\"model_visualizations/example_input.jpg\" height=\"20%\" width=\"20%\" alt=\"Train and validation loss\"/><br><br>\n",
    "\n",
    "\n",
    "\n",
    "<b>Pred</b>:<br>\n",
    "\\chi _ { h } ^ { N S } ( q ) = \\sum _ { N S } { S } _ { h } ^ { h ^ { \\prime } } \\chi _ { h } ^ { N S } ( q )<br>\n",
    "<b>Truth</b>:<br>\n",
    "\\chi _ { h } ^ { N S } ( q ) = \\sum S _ { h } ^ { h ^ { \\prime } } \\chi _ { h ^ { \\prime } } ^ { N S } ( \\tilde { q } )\n",
    "\n",
    "\n",
    "See a slew of example predictions at the end\n",
    "\n",
    "\n",
    "### 7. Next steps\n",
    "1. Implement Beam Search\n",
    "2. Do more hyper parameter search\n",
    "3. Visualize the Attention.\n",
    "4. Try implementing a convolutional network as encoder (as Genthial suggested)\n",
    "A convolutional network would be a lot faster to train.\n",
    "\n",
    "\n",
    "\n",
    "### 8. References\n",
    "\n",
    "Minh-Thang Luong, Eugene Brevdo & Rui Zhao (2017). Neural Machine Translation (seq2seq) Tutorial. https://github.com/tensorflow/nmt."
   ]
  },
  {
   "cell_type": "markdown",
   "metadata": {},
   "source": [
    "# The Code"
   ]
  },
  {
   "cell_type": "markdown",
   "metadata": {},
   "source": [
    "## Hyperparameters\n",
    "You can come back to this section later if you want to tweak any hyperparameters"
   ]
  },
  {
   "cell_type": "code",
   "execution_count": 1,
   "metadata": {
    "collapsed": true
   },
   "outputs": [],
   "source": [
    "hparams = {}\n",
    "\n",
    "# Model\n",
    "hparams['use_attention'] = True\n",
    "hparams['use_encoding_average_as_initial_state'] = False\n",
    "hparams['num_units'] = 512  # LSTM number of units\n",
    "hparams['OVERFIT_TO_SMALL_SAMPLE'] = False\n",
    "hparams['visualize_attention'] = True\n",
    "\n",
    "# Training\n",
    "hparams['num_epochs'] = 16\n",
    "hparams['mini_batch_size'] = 16\n",
    "hparams['clip_value'] = 3\n",
    "\n",
    "# Learning rate config\n",
    "hparams['warm_up_rate'] = 0.0001\n",
    "hparams['num_epochs_warm_up'] = 3\n",
    "hparams['base_learning_rate'] = 0.0004\n",
    "hparams['num_epochs_constant_lrate'] = 3\n",
    "hparams['num_decay_epochs'] = 10\n",
    "hparams['target_rate'] = 0.00001\n",
    "\n",
    "# Dataset parameters\n",
    "hparams['max_token_length'] = 70\n",
    "max_train_examples = 30 # No reason to load a the full training set since we will load a checkpoint\n",
    "max_val_examples = 100000 # Load all val examples we can\n",
    "max_test_examples = 100000 # Load all test examples we can\n",
    "\n",
    "# Other\n",
    "hparams['MODE'] = \"INFERENCE\" # TRAINING or INFERENCE\n",
    "hparams['restore_from_checkpoint'] = False # Relevant for training only. We always restore from checkpoint when doing inferene\n",
    "\n",
    "\n",
    "ON_FLOYDHUB = True\n",
    "\n",
    "if ON_FLOYDHUB:\n",
    "    data = '/data/'\n",
    "    output = '/output/'\n",
    "else:\n",
    "    data = '../data/'\n",
    "    output = '../output/' \n"
   ]
  },
  {
   "cell_type": "markdown",
   "metadata": {},
   "source": [
    "## Load packages"
   ]
  },
  {
   "cell_type": "code",
   "execution_count": 42,
   "metadata": {
    "collapsed": true
   },
   "outputs": [],
   "source": [
    "from matplotlib import pyplot as plt\n",
    "from tensorflow.python.layers import core as layers_core\n",
    "import tensorflow as tf\n",
    "import numpy as np\n",
    "import datetime\n",
    "import distance\n",
    "import json\n",
    "\n",
    "# Our own file\n",
    "import train as t"
   ]
  },
  {
   "cell_type": "markdown",
   "metadata": {},
   "source": [
    "## Load data"
   ]
  },
  {
   "cell_type": "markdown",
   "metadata": {},
   "source": [
    "### Load the vocabulary"
   ]
  },
  {
   "cell_type": "code",
   "execution_count": 3,
   "metadata": {},
   "outputs": [
    {
     "name": "stdout",
     "output_type": "stream",
     "text": [
      "Vocabulary size:  400\n"
     ]
    }
   ],
   "source": [
    "token_vocabulary = [\"**end**\", \"**start**\", \"**unknown**\"]\n",
    "\n",
    "token_vocabulary.extend(t.get_vocabulary(\"train\"))\n",
    "token_vocab_size = len(token_vocabulary)\n",
    "\n",
    "target_token_index = dict(\n",
    "    [(token, i) for i, token in enumerate(token_vocabulary)])\n",
    "reverse_target_token_index = dict(\n",
    "    (i, char) for char, i in target_token_index.items())\n",
    "\n",
    "print(\"Vocabulary size: \", token_vocab_size)"
   ]
  },
  {
   "cell_type": "markdown",
   "metadata": {},
   "source": [
    "### Load train, val, and test set\n",
    "Each batch correspond to an image size. We have a total of 19 buckets. This way the model learns to handle different image sizes. But more importantly, this way we can speed up training by not having all images padded to the maximum size in the training set.\n",
    "\n",
    "Code for loading the data, padding and creating the batches are provided in <i>train.py</i>."
   ]
  },
  {
   "cell_type": "code",
   "execution_count": 4,
   "metadata": {},
   "outputs": [
    {
     "name": "stdout",
     "output_type": "stream",
     "text": [
      "\n",
      " ======================= Loading Data =======================\n",
      "\n",
      " ======================= Loading train set =======================\n",
      "dumped\n",
      "\n",
      " ======================= Train set loaded =======================\n",
      "\n",
      " ======================= Loading validation set =======================\n",
      "Image with id: 3368 was not loaded\n",
      "Token \\left\\Vert in 5 not in the Vocabulary\n",
      "Token \\right\\Vert in 5 not in the Vocabulary\n",
      "Token \\surd in 18 not in the Vocabulary\n",
      "Token \\surd in 18 not in the Vocabulary\n",
      "Token \\bigsqcup in 21 not in the Vocabulary\n",
      "Token \\smash in 30 not in the Vocabulary\n",
      "Token \\vdash in 38 not in the Vocabulary\n",
      "Token \\* in 45 not in the Vocabulary\n",
      "Token \\* in 45 not in the Vocabulary\n",
      "Token \\triangleright in 56 not in the Vocabulary\n",
      "Token \\hphantom in 80 not in the Vocabulary\n",
      "Token --- in 89 not in the Vocabulary\n",
      "Token \\bigcirc in 121 not in the Vocabulary\n",
      "Token \\asymp in 138 not in the Vocabulary\n",
      "Token \\triangleright in 179 not in the Vocabulary\n",
      "Token \\triangleright in 179 not in the Vocabulary\n",
      "Token \\triangleright in 179 not in the Vocabulary\n",
      "Token \\triangleright in 179 not in the Vocabulary\n",
      "Token \\mathord in 180 not in the Vocabulary\n",
      "Token \\mathrel in 180 not in the Vocabulary\n",
      "Token \\smallint in 181 not in the Vocabulary\n",
      "Token \\exists in 186 not in the Vocabulary\n",
      "Token \\searrow in 187 not in the Vocabulary\n",
      "Token \\right/ in 190 not in the Vocabulary\n",
      "Token \\emph in 195 not in the Vocabulary\n",
      "Token \\AA in 195 not in the Vocabulary\n",
      "Token \\AA in 246 not in the Vocabulary\n",
      "Token \\textit in 258 not in the Vocabulary\n",
      "Token @ in 300 not in the Vocabulary\n",
      "Token @ in 300 not in the Vocabulary\n",
      "Token \\ae in 302 not in the Vocabulary\n",
      "Token \\searrow in 342 not in the Vocabulary\n",
      "Token \\textnormal in 367 not in the Vocabulary\n",
      "Token \\textnormal in 367 not in the Vocabulary\n",
      "Token \\lefteqn in 370 not in the Vocabulary\n",
      "dumped\n",
      "\n",
      " ======================= Validation set loaded =======================\n",
      "\n",
      " ======================= Loading test set =======================\n",
      "Image with id: 2931 was not loaded\n",
      "Image with id: 5556 was not loaded\n",
      "Token \\sqcup in 15 not in the Vocabulary\n",
      "Token \\sqcap in 15 not in the Vocabulary\n",
      "Token \\sqcup in 15 not in the Vocabulary\n",
      "Token \\sqcap in 15 not in the Vocabulary\n",
      "Token \\rightarrowfill in 80 not in the Vocabulary\n",
      "Token \\left\\lbrace in 108 not in the Vocabulary\n",
      "Token \\right\\rbrace in 108 not in the Vocabulary\n",
      "Token \\right/ in 108 not in the Vocabulary\n",
      "Token \\begin{tabular} in 138 not in the Vocabulary\n",
      "Token \\end{tabular} in 138 not in the Vocabulary\n",
      "Token \\cite in 148 not in the Vocabulary\n",
      "Token \\mathtt in 152 not in the Vocabulary\n",
      "Token \\' in 153 not in the Vocabulary\n",
      "Token \\atopwithdelims in 172 not in the Vocabulary\n",
      "Token \\exists in 202 not in the Vocabulary\n",
      "Token \\notin in 202 not in the Vocabulary\n",
      "Token \\bigm in 222 not in the Vocabulary\n",
      "Token \\uppercase in 234 not in the Vocabulary\n",
      "Token \\expandafter in 234 not in the Vocabulary\n",
      "Token \\romannumeral in 234 not in the Vocabulary\n",
      "Token \\symbol in 237 not in the Vocabulary\n",
      "Token \\special in 260 not in the Vocabulary\n",
      "Token \\mathtt in 272 not in the Vocabulary\n",
      "Token \\mathtt in 272 not in the Vocabulary\n",
      "Token \\preceq in 285 not in the Vocabulary\n",
      "Token \\- in 306 not in the Vocabulary\n",
      "Token \\lower in 344 not in the Vocabulary\n",
      "Token \\unboldmath in 344 not in the Vocabulary\n",
      "Token \\coprod in 363 not in the Vocabulary\n",
      "Token \\\" in 378 not in the Vocabulary\n",
      "Token \\searrow in 397 not in the Vocabulary\n",
      "Token \\nearrow in 397 not in the Vocabulary\n",
      "dumped\n",
      "\n",
      " ======================= Test set loaded =======================\n",
      "\n",
      " ======================= Data Loaded =======================\n"
     ]
    }
   ],
   "source": [
    "print(\"\\n ======================= Loading Data =======================\")\n",
    "\n",
    "\n",
    "print(\"\\n ======================= Loading train set =======================\")\n",
    "train_dataset = t.get_data_somehow('train', True, hparams['mini_batch_size'], hparams['max_token_length'], max_train_examples , target_token_index)\n",
    "train_encoder_input_data_batches = train_dataset[0]\n",
    "train_target_texts_batches = train_dataset[1]\n",
    "train_sequence_lengths_batches = train_dataset[2]\n",
    "train_decoder_input_data_batches = train_dataset[3]\n",
    "train_decoder_target_data_batches = train_dataset[4]\n",
    "print(\"\\n ======================= Train set loaded =======================\")\n",
    "\n",
    "print(\"\\n ======================= Loading validation set =======================\")\n",
    "val_dataset = t.get_data_somehow('val', True, hparams['mini_batch_size'], hparams['max_token_length'], max_val_examples, target_token_index)\n",
    "val_encoder_input_data_batches = val_dataset[0]\n",
    "val_target_texts_batches = val_dataset[1]\n",
    "val_sequence_lengths_batches = val_dataset[2]\n",
    "val_decoder_input_data_batches = val_dataset[3]\n",
    "val_decoder_target_data_batches = val_dataset[4]\n",
    "print(\"\\n ======================= Validation set loaded =======================\")\n",
    "\n",
    "print(\"\\n ======================= Loading test set =======================\")\n",
    "test_dataset = t.get_data_somehow('test', True, hparams['mini_batch_size'], hparams['max_token_length'], max_test_examples, target_token_index)\n",
    "test_encoder_input_data_batches = test_dataset[0]\n",
    "test_target_texts_batches = test_dataset[1]\n",
    "test_sequence_lengths_batches = test_dataset[2]\n",
    "test_decoder_input_data_batches = test_dataset[3]\n",
    "test_decoder_target_data_batches = test_dataset[4]\n",
    "print(\"\\n ======================= Test set loaded =======================\")\n",
    "\n",
    "\n",
    "print(\"\\n ======================= Data Loaded =======================\")"
   ]
  },
  {
   "cell_type": "markdown",
   "metadata": {},
   "source": [
    "## Inspect data"
   ]
  },
  {
   "cell_type": "code",
   "execution_count": 5,
   "metadata": {},
   "outputs": [
    {
     "name": "stdout",
     "output_type": "stream",
     "text": [
      "Num train batches: 2\n",
      "Num val batches: 378\n",
      "Num test batches: 423\n",
      "Num train samples: 30\n",
      "Num val samples: 6045\n",
      "Num test samples: 6757\n"
     ]
    }
   ],
   "source": [
    "num_train_batches = len(train_encoder_input_data_batches)\n",
    "num_val_batches = len(val_encoder_input_data_batches)\n",
    "num_test_batches = len(test_encoder_input_data_batches)\n",
    "\n",
    "\n",
    "num_train_samples = (num_train_batches - 1) * hparams['mini_batch_size'] + train_target_texts_batches[-1].shape[0]\n",
    "num_val_samples = (num_val_batches - 1) * hparams['mini_batch_size'] + val_target_texts_batches[-1].shape[0]\n",
    "num_test_samples = (num_test_batches - 1) * hparams['mini_batch_size'] + test_target_texts_batches[-1].shape[0]\n",
    "\n",
    "print(\"Num train batches: \" + str(num_train_batches))\n",
    "print(\"Num val batches: \" + str(num_val_batches))\n",
    "print(\"Num test batches: \" + str(num_test_batches))\n",
    "\n",
    "print(\"Num train samples: \" + str(num_train_samples))\n",
    "print(\"Num val samples: \" + str(num_val_samples))\n",
    "print(\"Num test samples: \" + str(num_test_samples))"
   ]
  },
  {
   "cell_type": "markdown",
   "metadata": {},
   "source": []
  },
  {
   "cell_type": "markdown",
   "metadata": {},
   "source": [
    "## The model\n",
    "Here we present the code for our best model with attention. \n",
    "\n",
    "Outline:\n",
    "- <i>create_placholders()</i>\n",
    "- <i>create_encoder()</i>\n",
    "- <i>create_decoder(...)</i>\n",
    "- <i>create_loss_function(...)</i>\n",
    "- <i>create_gradients(...)</i>\n",
    "- <i>create_tf_summary(...)</i>\n",
    "- <i>create_graph(...)</i>"
   ]
  },
  {
   "cell_type": "markdown",
   "metadata": {},
   "source": [
    "### Create all the placeholders\n",
    "We use the trick suggested by Genthail and input a uint8 datatype and then cast it to a float."
   ]
  },
  {
   "cell_type": "code",
   "execution_count": 6,
   "metadata": {
    "collapsed": true
   },
   "outputs": [],
   "source": [
    "def create_placeholders():\n",
    "    ### Placeholder 1: The Image\n",
    "    img = tf.placeholder(tf.uint8, [None, None, None, 1], name='img')\n",
    "    img = tf.cast(img, tf.float32) / 255\n",
    "    \n",
    "    ### Placeholder 2: Decoder input sequences (ground truth)\n",
    "    # Purpose: for forced teaching\n",
    "    decoder_inputs = tf.placeholder(tf.uint16, [None, None], name='decoder_inputs')  # Supposed to be a sequence of numbers corresponding to the different tokens in the sentence\n",
    "    decoder_inputs = tf.cast(decoder_inputs, tf.int32)\n",
    "    \n",
    "    ### Placeholder 3: Sequence lengths\n",
    "    # Purpose: for creating a mask to multiply the training loss with )\n",
    "    decoder_lengths = tf.placeholder(tf.uint16, [None])\n",
    "    decoder_lengths = tf.cast(decoder_lengths, tf.int32)\n",
    "    \n",
    "    ### Placeholder 4: Ground truth output sequences\n",
    "    #Used together with the logits to calculate the training loss\n",
    "    decoder_outputs = tf.placeholder(tf.uint16, [None, None], name='decoder_outputs')\n",
    "    decoder_outputs = tf.cast(decoder_outputs, tf.int32)\n",
    "    \n",
    "    ### Placeholder 5: The learning rate\n",
    "    learning_rate = tf.placeholder(tf.float32, shape=[])\n",
    "    \n",
    "    return img, decoder_inputs, decoder_lengths, decoder_outputs, learning_rate"
   ]
  },
  {
   "cell_type": "markdown",
   "metadata": {},
   "source": [
    "### The encoder"
   ]
  },
  {
   "cell_type": "code",
   "execution_count": 7,
   "metadata": {
    "collapsed": true
   },
   "outputs": [],
   "source": [
    "def create_encoder(img):\n",
    "    # One of Genthails's encoder implementations (from paper)\n",
    "    # http://cs231n.stanford.edu/reports/2017/pdfs/815.pdf\n",
    "\n",
    "    # Conv + max pooling\n",
    "    out = tf.layers.conv2d(img, 64, 3, 1, \"SAME\", activation=tf.nn.relu)\n",
    "    # Conv + max pooling\n",
    "    out = tf.layers.conv2d(out, 128, 3, 1, \"SAME\", activation=tf.nn.relu)\n",
    "\n",
    "    out = tf.layers.conv2d(out, 256, 3, 1, \"SAME\", activation=tf.nn.relu)  \n",
    "\n",
    "    out = tf.layers.conv2d(out, 256, 3, 1, \"SAME\", activation=tf.nn.relu)  \n",
    "    out = tf.layers.max_pooling2d(out, (2, 1), (2, 1), \"SAME\")\n",
    "\n",
    "    out = tf.layers.conv2d(out, 512, 3, 1, \"SAME\", activation=tf.nn.relu)  \n",
    "    out = tf.layers.max_pooling2d(out, (1, 2), (1, 2), \"SAME\")\n",
    "\n",
    "    # Conv valid\n",
    "    out = tf.layers.conv2d(out, 512, 3, 1, \"VALID\", activation=tf.nn.relu, name=\"last_conv_layer\")\n",
    "\n",
    "    ## Out is now a H'*W' encoding of the image\n",
    "\n",
    "    H = tf.shape(out)[1]\n",
    "    W = tf.shape(out)[2]\n",
    "\n",
    "    # out = add_timing_signal_nd(out)\n",
    "    seq = tf.reshape(tensor=out, shape=[-1, H * W, 512])\n",
    "    \n",
    "    \n",
    "    return seq, H, W"
   ]
  },
  {
   "cell_type": "code",
   "execution_count": 8,
   "metadata": {
    "collapsed": true
   },
   "outputs": [],
   "source": [
    "def create_encoder_final_state(seq, num_units):\n",
    "    img_mean = tf.reduce_mean(seq, axis=1)\n",
    "\n",
    "    W = tf.get_variable(\"W\", shape=[512, num_units])\n",
    "    b = tf.get_variable(\"b\", shape=[num_units])\n",
    "    h0 = tf.tanh(tf.matmul(img_mean, W) + b)\n",
    "\n",
    "    W_ = tf.get_variable(\"W_\", shape=[512, num_units])\n",
    "    b_ = tf.get_variable(\"b_\", shape=[num_units])\n",
    "    c0 = tf.tanh(tf.matmul(img_mean, W_) + b_)\n",
    "\n",
    "    encoder_final_state = tf.contrib.rnn.LSTMStateTuple(c0, h0)\n",
    "    \n",
    "    return encoder_final_state"
   ]
  },
  {
   "cell_type": "code",
   "execution_count": null,
   "metadata": {
    "collapsed": true
   },
   "outputs": [],
   "source": []
  },
  {
   "cell_type": "code",
   "execution_count": null,
   "metadata": {
    "collapsed": true
   },
   "outputs": [],
   "source": []
  },
  {
   "cell_type": "markdown",
   "metadata": {},
   "source": [
    "### Create decoder"
   ]
  },
  {
   "cell_type": "markdown",
   "metadata": {},
   "source": [
    "#### Creeate the decoder cell"
   ]
  },
  {
   "cell_type": "code",
   "execution_count": 9,
   "metadata": {
    "collapsed": true
   },
   "outputs": [],
   "source": [
    "def create_decoder_cell(num_units, use_attention, seq):\n",
    "    decoder_cell = tf.nn.rnn_cell.LSTMCell(\n",
    "        num_units,\n",
    "        initializer=tf.orthogonal_initializer,\n",
    "    )\n",
    "    \n",
    "    if use_attention:\n",
    "        attention_mechanism = tf.contrib.seq2seq.LuongAttention(\n",
    "            num_units, seq, scale=True) \n",
    "        decoder_cell = tf.contrib.seq2seq.AttentionWrapper(\n",
    "                decoder_cell, attention_mechanism,\n",
    "                alignment_history=hparams['visualize_attention'],\n",
    "                attention_layer_size=num_units)\n",
    "        \n",
    "    return decoder_cell"
   ]
  },
  {
   "cell_type": "markdown",
   "metadata": {},
   "source": [
    "#### Creeate the decoder initial state"
   ]
  },
  {
   "cell_type": "code",
   "execution_count": 10,
   "metadata": {
    "collapsed": true
   },
   "outputs": [],
   "source": [
    "def create_decoder_initial_state(decoder_cell, batch_size,use_attention,use_encoding_average_as_initial_state, encoder_state=None):\n",
    "    if use_attention:\n",
    "        # Decoder cell must be wrapped with the Attention Wrapper already\n",
    "        ## Set initial state of decoder to zero (possible to use previous state)\n",
    "        if use_encoding_average_as_initial_state:\n",
    "            decoder_initial_state = decoder_cell.zero_state(batch_size, tf.float32).clone(cell_state=encoder_state)\n",
    "        else:\n",
    "            decoder_initial_state = decoder_cell.zero_state(batch_size, tf.float32)\n",
    "\n",
    "    else:\n",
    "        decoder_initial_state = encoder_state\n",
    "        \n",
    "    return decoder_initial_state"
   ]
  },
  {
   "cell_type": "markdown",
   "metadata": {},
   "source": [
    "#### Create the decoder "
   ]
  },
  {
   "cell_type": "code",
   "execution_count": 11,
   "metadata": {
    "collapsed": true
   },
   "outputs": [],
   "source": [
    "def create_decoder(seq, num_units, decoder_inputs, decoder_lengths, decoder_cell, decoder_initial_state):\n",
    "    # Create an attention mechanism with attention_depth = num_units\n",
    "\n",
    "\n",
    "    # Decoder: from seq2seq tutorial\n",
    "    embedding_size = 80  # We follow Genthail's suggestion of 80 embedding size 80\n",
    "    \n",
    "    # Embedding matrix\n",
    "    embedding_decoder = tf.get_variable(\n",
    "        \"embedding_encoder\", [token_vocab_size, embedding_size], tf.float32)  # tf.float32 was default in the NMT tutorial\n",
    "\n",
    "    # Look up embedding:\n",
    "    decoder_emb_inp = tf.nn.embedding_lookup(\n",
    "        embedding_decoder, decoder_inputs)\n",
    "\n",
    "    # Helper\n",
    "    helper = tf.contrib.seq2seq.TrainingHelper(\n",
    "        decoder_emb_inp, decoder_lengths, time_major=False)\n",
    "\n",
    "    # Projection layer\n",
    "    projection_layer = layers_core.Dense(token_vocab_size, use_bias=False,\n",
    "                                         name=\"output_projection\")\n",
    "    # Decoder\n",
    "    decoder = tf.contrib.seq2seq.BasicDecoder(\n",
    "        decoder_cell, helper, decoder_initial_state,\n",
    "        output_layer=projection_layer)\n",
    "    \n",
    "    return decoder, embedding_decoder, projection_layer"
   ]
  },
  {
   "cell_type": "code",
   "execution_count": null,
   "metadata": {
    "collapsed": true
   },
   "outputs": [],
   "source": []
  },
  {
   "cell_type": "code",
   "execution_count": 12,
   "metadata": {
    "collapsed": true
   },
   "outputs": [],
   "source": [
    "def create_loss_function(decoder_outputs, logits, decoder_lengths, batch_size):\n",
    "    # Loss function\n",
    "    crossent = tf.nn.sparse_softmax_cross_entropy_with_logits(\n",
    "        labels=decoder_outputs, logits=logits)\n",
    "\n",
    "    # Create the target_weights (the masking)\n",
    "    max_seq_length = tf.shape(decoder_outputs)[1]\n",
    "    target_weights = tf.sequence_mask(decoder_lengths, max_seq_length, dtype=logits.dtype)\n",
    "\n",
    "    train_loss = tf.reduce_sum(crossent * target_weights) / tf.cast(batch_size, tf.float32)\n",
    "\n",
    "    return train_loss\n",
    "    "
   ]
  },
  {
   "cell_type": "code",
   "execution_count": 13,
   "metadata": {
    "collapsed": true
   },
   "outputs": [],
   "source": [
    "def create_gradients(train_loss, max_gradient_norm):\n",
    "    params = tf.trainable_variables()\n",
    "    gradients = tf.gradients(train_loss, params)\n",
    "\n",
    "    clipped_gradients, global_norm = tf.clip_by_global_norm(\n",
    "        gradients, max_gradient_norm)\n",
    "    \n",
    "    return clipped_gradients, global_norm, gradients, params"
   ]
  },
  {
   "cell_type": "code",
   "execution_count": 14,
   "metadata": {
    "collapsed": true
   },
   "outputs": [],
   "source": [
    "def create_tf_summary(params, gradients, train_loss, global_norm):\n",
    "    param_names = [v.name for v in params]\n",
    "    gradient_names = [g.name for g in gradients]\n",
    "    gradient_norms = [tf.norm(gradient) for gradient in gradients]\n",
    "    grads = list(zip(gradients, params))\n",
    "    for grad, var in grads:\n",
    "        tf.summary.histogram(var.name + '/gradient', grad)\n",
    "    for param in params:\n",
    "        to_summary = tf.summary.histogram(param.name + '/weight', param)\n",
    "    \n",
    "    tf.summary.scalar('loss', train_loss)\n",
    "    tf.summary.scalar('global_norm', global_norm)\n",
    "    \n",
    "    merged = tf.summary.merge_all()\n",
    "    \n",
    "    return merged, gradient_norms"
   ]
  },
  {
   "cell_type": "code",
   "execution_count": 15,
   "metadata": {
    "collapsed": true
   },
   "outputs": [],
   "source": [
    "def create_graph(token_vocab_size, num_units, use_attention, use_encoding_average_as_initial_state, training):\n",
    "    \n",
    "    img, decoder_inputs, decoder_lengths, decoder_outputs, learning_rate = create_placeholders()\n",
    "\n",
    "    batch_size = tf.shape(img)[0]\n",
    "\n",
    "    # Get encoding\n",
    "    seq, H, W = create_encoder(img)\n",
    "\n",
    "    # Create decoder cell\n",
    "    # Using LMSTMCell instead of BasicCell like in NMT tutorial \n",
    "    # Why so we can initialize with orthogonal intializer (like Genthail)\n",
    "    decoder_cell = create_decoder_cell(num_units, use_attention, seq)\n",
    "\n",
    "        \n",
    "    # Create decoder initial state  \n",
    "    if use_encoding_average_as_initial_state:\n",
    "        encoder_final_state = create_encoder_final_state(seq, num_units)\n",
    "        decoder_initial_state = create_decoder_initial_state(decoder_cell, batch_size, use_attention, True, encoder_state=encoder_final_state)\n",
    "    else:\n",
    "        decoder_initial_state = create_decoder_initial_state(decoder_cell, batch_size, use_attention, False)\n",
    "        \n",
    "    # Create decoder\n",
    "    decoder, embedding_decoder, projection_layer = create_decoder(seq, num_units, decoder_inputs, decoder_lengths, decoder_cell, decoder_initial_state)\n",
    "\n",
    "    # Dynamic decoding\n",
    "    outputs, _, _ = tf.contrib.seq2seq.dynamic_decode(decoder,\n",
    "                                                      output_time_major=False) \n",
    "    logits = outputs.rnn_output\n",
    "\n",
    "\n",
    "    # Get Loss function\n",
    "    train_loss = create_loss_function(decoder_outputs, logits, decoder_lengths, batch_size)\n",
    "\n",
    "    # Gradients\n",
    "    max_gradient_norm = hparams['clip_value']  # Usually a number between 1 and 5. Set to 5 in the NMT.\n",
    "    clipped_gradients, global_norm, gradients, params = create_gradients(train_loss, max_gradient_norm)\n",
    "\n",
    "    # Optimization\n",
    "    global_step = tf.Variable(0, trainable=False)  ## IMPORTANT\n",
    "    optimizer = tf.train.AdamOptimizer(learning_rate)\n",
    "    update_step = optimizer.apply_gradients(\n",
    "        zip(clipped_gradients, params), global_step=global_step)\n",
    "\n",
    "    # Creeate tf summary\n",
    "    merged, gradient_norms = create_tf_summary(params, gradients, train_loss, global_norm)\n",
    "    \n",
    "    \n",
    "    # Return different tensor depending on if we are training or inference mode\n",
    "    if training:\n",
    "        return [merged,\n",
    "                update_step,\n",
    "                train_loss,\n",
    "                optimizer,\n",
    "                global_norm,\n",
    "                gradient_norms,\n",
    "                global_step,\n",
    "                img,\n",
    "                decoder_lengths,\n",
    "                decoder_inputs,\n",
    "                decoder_outputs,\n",
    "                learning_rate]\n",
    "    else:\n",
    "        return embedding_decoder, decoder_cell, decoder_initial_state, projection_layer, img\n",
    "\n"
   ]
  },
  {
   "cell_type": "markdown",
   "metadata": {},
   "source": [
    "## Train the model\n",
    "\n",
    "We provide the training code in this notebook notebook. However, when we trained, we ran train.py. So we suggest that if you want to train the model yourself you should do the following steps:\n",
    "1. Tune hyperparameters in train.py (or leave as is)\n",
    "2. Run \"python3 train.py\" on a gpu.\n",
    "\n",
    "Checkpoint files will be saved in output/checkpoints. Later in this notebook we load from a checkpoint."
   ]
  },
  {
   "cell_type": "markdown",
   "metadata": {},
   "source": [
    "### Initialize variables (or restore from checkpoint)"
   ]
  },
  {
   "cell_type": "code",
   "execution_count": 16,
   "metadata": {
    "collapsed": true
   },
   "outputs": [],
   "source": [
    "def initialize_variables(sess, restore, path):\n",
    "    \n",
    "    if restore:\n",
    "        print('restoring')\n",
    "        tf_loader = tf.train.Saver(allow_empty=False)\n",
    "        tf_loader.restore(sess,path)\n",
    "    else:\n",
    "        print('reinitializing')\n",
    "        sess.run(tf.global_variables_initializer())"
   ]
  },
  {
   "cell_type": "markdown",
   "metadata": {},
   "source": [
    "### Other useful functions when training"
   ]
  },
  {
   "cell_type": "code",
   "execution_count": 17,
   "metadata": {
    "collapsed": true
   },
   "outputs": [],
   "source": [
    "def create_hparams_log():\n",
    "    file = open(output + \"hparams.txt\",\"w\") \n",
    "    file.write(json.dumps(hparams, indent=4))\n",
    "    file.close()\n",
    "\n",
    "def create_metric_output_file():\n",
    "\n",
    "    file = open(output + \"metrics.txt\",\"w\") \n",
    "    file.write(\"Train loss\" + \"\\t\" + \"Val loss\" + \"\\t\" + \"Learning rate\" + \"\\t\" + \"Global grad norm\" + \"\\n\")\n",
    "    file.close()\n",
    "    \n",
    "\n",
    "# Get number of parameters in model\n",
    "#From https://stackoverflow.com/questions/38160940/how-to-count-total-number-of-trainable-parameters-in-a-tensorflow-model\n",
    "def get_num_parameters():\n",
    "    total_parameters = 0\n",
    "    for variable in tf.trainable_variables():\n",
    "        shape = variable.get_shape()\n",
    "        variable_parameters = 1\n",
    "        for dim in shape:\n",
    "            variable_parameters *= dim.value\n",
    "        total_parameters += variable_parameters\n",
    "    \n",
    "    return total_parameters\n"
   ]
  },
  {
   "cell_type": "markdown",
   "metadata": {},
   "source": [
    "### Calculating loss over all examples"
   ]
  },
  {
   "cell_type": "code",
   "execution_count": 18,
   "metadata": {
    "collapsed": true
   },
   "outputs": [],
   "source": [
    "def get_loss(img, encoder_input_data_batches,\n",
    "                        decoder_lengths, sequence_lengths_batches,\n",
    "                        decoder_inputs, decoder_input_data_batches,\n",
    "                        decoder_outputs, decoder_target_data_batches,\n",
    "                        train_loss, sess):\n",
    "    num_batches = len(sequence_lengths_batches)\n",
    "    avg_loss = 0\n",
    "    for i in range(num_batches):\n",
    "        input_data = {img: encoder_input_data_batches[i],\n",
    "                      decoder_lengths: sequence_lengths_batches[i],\n",
    "                      decoder_inputs: decoder_input_data_batches[i],\n",
    "                      decoder_outputs: decoder_target_data_batches[i],\n",
    "                      }\n",
    "\n",
    "        output_tensors = [train_loss]\n",
    "        loss = sess.run(output_tensors,\n",
    "                        feed_dict=input_data)\n",
    "\n",
    "        avg_loss = avg_loss + loss[0]\n",
    "\n",
    "    avg_loss = avg_loss / num_batches\n",
    "    return avg_loss"
   ]
  },
  {
   "cell_type": "markdown",
   "metadata": {},
   "source": [
    "\n",
    "### Function for learning rate"
   ]
  },
  {
   "cell_type": "code",
   "execution_count": 19,
   "metadata": {
    "collapsed": true
   },
   "outputs": [],
   "source": [
    "def get_learning_rate(global_step, num_train_batches):\n",
    "    epoch = int(float(global_step) / num_train_batches)\n",
    "\n",
    "    if hparams['OVERFIT_TO_SMALL_SAMPLE'] == True:\n",
    "        if epoch < 20:\n",
    "            lr_rate = 0.0001\n",
    "        elif epoch < 40:\n",
    "            lr_rate = 0.0005\n",
    "        elif epoch < 500:\n",
    "            decay_rate = 0.00001 / 0.0005\n",
    "            decay_steps = hparams['num_epochs']\n",
    "            lr_rate =  0.0005 * decay_rate ** (float((global_step - num_train_batches * 6)) / decay_steps)\n",
    "        else:\n",
    "            lr_rate = 0.00001\n",
    "    else:\n",
    "        warm_up_rate = hparams['warm_up_rate']\n",
    "        num_epochs_warm_up = hparams['num_epochs_warm_up']\n",
    "        base_learning_rate = hparams['base_learning_rate']\n",
    "        num_epochs_constant_lrate = hparams['num_epochs_constant_lrate']\n",
    "        num_decay_epochs = hparams['num_decay_epochs']\n",
    "        target_rate = hparams['target_rate']\n",
    "\n",
    "        if epoch < num_epochs_warm_up:\n",
    "            # Warm up\n",
    "            lr_rate = warm_up_rate\n",
    "        elif epoch < num_epochs_warm_up + num_epochs_constant_lrate:\n",
    "            lr_rate = base_learning_rate\n",
    "        elif epoch < num_epochs_warm_up + num_epochs_constant_lrate + num_decay_epochs:\n",
    "            # Over 10 epochs decay learning rate from 0.0005 to 0.00001\n",
    "\n",
    "            decay_rate = target_rate / base_learning_rate\n",
    "            decay_steps = num_train_batches * num_decay_epochs\n",
    "            lr_rate = base_learning_rate * decay_rate ** (float((global_step - num_train_batches * num_epochs_warm_up + num_epochs_constant_lrate)) / decay_steps)\n",
    "        else:\n",
    "            lr_rate = target_rate\n",
    "\n",
    "    return lr_rate"
   ]
  },
  {
   "cell_type": "markdown",
   "metadata": {},
   "source": [
    "### Putting it all together and training"
   ]
  },
  {
   "cell_type": "code",
   "execution_count": 20,
   "metadata": {},
   "outputs": [],
   "source": [
    "if hparams['MODE'] == \"TRAINING\":\n",
    "    # Create two output files: hyperparameters and metrics\n",
    "    create_hparams_log()\n",
    "    create_metric_output_file()\n",
    "    \n",
    "    #Load hyperparameters\n",
    "    num_epochs = hparams['num_epochs']\n",
    "    max_token_length = hparams['max_token_length']\n",
    "    mini_batch_size = hparams['mini_batch_size']\n",
    "    use_attention = hparams['use_attention']\n",
    "    use_encoding_average_as_initial_state = hparams['use_encoding_average_as_initial_state']\n",
    "    num_units = hparams['num_units']  # LSTM number of units\n",
    "\n",
    "    tf.reset_default_graph()\n",
    "\n",
    "    \n",
    "    # Create graph\n",
    "    t = create_graph(token_vocab_size, num_units, use_attention, use_encoding_average_as_initial_state, training=True)\n",
    "\n",
    "    merged, update_step, train_loss, optimizer, global_norm, gradient_norms, \\\n",
    "    global_step, img, decoder_lengths, decoder_inputs, decoder_outputs, learning_rate = t\n",
    "      "
   ]
  },
  {
   "cell_type": "markdown",
   "metadata": {},
   "source": [
    "### Create session, initialize variables and create tf.summary.FileWriter"
   ]
  },
  {
   "cell_type": "code",
   "execution_count": 21,
   "metadata": {},
   "outputs": [],
   "source": [
    "if hparams['MODE'] == \"TRAINING\":\n",
    "    sess = tf.Session()\n",
    "    tf_saver = tf.train.Saver(save_relative_paths=True)\n",
    "    initialize_variables(sess, restore=hparams['restore_from_checkpoint'], path='/checkpoints/checkpoints/model_8.ckpt')\n",
    "    train_writer = tf.summary.FileWriter(output + 'summaries/train/', sess.graph)"
   ]
  },
  {
   "cell_type": "markdown",
   "metadata": {},
   "source": [
    "### The training loop"
   ]
  },
  {
   "cell_type": "code",
   "execution_count": 22,
   "metadata": {},
   "outputs": [],
   "source": [
    "if hparams['MODE'] == \"TRAINING\":\n",
    "\n",
    "    print(\"Total number of parameters: \", get_num_parameters())\n",
    "    \n",
    "    #Get what global step we are at in training already (so that the learning_rate is set correct)\n",
    "    glob_step = sess.run(global_step)\n",
    "    \n",
    "    for epoch in range(num_epochs + 1):\n",
    "        print(\"Epoch: \", epoch)\n",
    "        for i in range(num_train_batches):\n",
    "            # Calculate running time for batch\n",
    "            start_time = datetime.datetime.now()\n",
    "\n",
    "            # Calculate the learning rate for this step.\n",
    "            lrate = get_learning_rate(glob_step, num_train_batches)\n",
    "            input_data = {img: train_encoder_input_data_batches[i],\n",
    "                          decoder_lengths: train_sequence_lengths_batches[i],\n",
    "                          decoder_inputs: train_decoder_input_data_batches[i],\n",
    "                          decoder_outputs: train_decoder_target_data_batches[i],\n",
    "                          learning_rate: lrate\n",
    "                          }\n",
    "\n",
    "            if glob_step % 200 == 0:\n",
    "                output_tensors = [merged, update_step, train_loss, optimizer._lr, global_norm, gradient_norms,\n",
    "                                  global_step]\n",
    "                summary, _, loss, lr_rate, global_grad_norm, grad_norms, glob_step = sess.run(output_tensors,\n",
    "                                                                                              feed_dict=input_data)\n",
    "                train_writer.add_summary(summary, glob_step)\n",
    "                \n",
    "            else:\n",
    "                output_tensors = [update_step, train_loss, global_norm, global_step, optimizer._lr]\n",
    "\n",
    "                _, loss, global_grad_norm, glob_step, lr_rate = sess.run(output_tensors,\n",
    "                                                                         feed_dict=input_data)\n",
    "\n",
    "            if i == 0:\n",
    "                print(\"Loss:\", loss)\n",
    "                print(\"Global step\", glob_step)\n",
    "                validation_loss = get_loss(img, val_encoder_input_data_batches,\n",
    "                        decoder_lengths, val_sequence_lengths_batches,\n",
    "                        decoder_inputs, val_decoder_input_data_batches,\n",
    "                        decoder_outputs, val_decoder_target_data_batches,\n",
    "                        train_loss, sess)  \n",
    "\n",
    "                training_loss = get_loss(img, train_encoder_input_data_batches,\n",
    "                        decoder_lengths, train_sequence_lengths_batches,\n",
    "                        decoder_inputs, train_decoder_input_data_batches,\n",
    "                        decoder_outputs, train_decoder_target_data_batches,\n",
    "                        train_loss, sess) \n",
    "\n",
    "                file = open(output + \"metrics.txt\",\"a\") \n",
    "                lrate_to_file = ('%s' % ('%.8g' % lrate))\n",
    "                file.write(str(training_loss) + \"\\t\" + str(validation_loss) + \"\\t\" + lrate_to_file + \"\\t\" + str(global_grad_norm)+ \"\\n\")\n",
    "                file.close()\n",
    "        # Run the following in terminal to get up tensorboard: tensorboard --logdir=summaries/train\n",
    "        \n",
    "        \n",
    "        save_path = tf_saver.save(sess, output + 'checkpoints/model_'+str(epoch)+'.ckpt')\n",
    "        print(\"Model saved in file: %s\" % save_path)"
   ]
  },
  {
   "cell_type": "markdown",
   "metadata": {},
   "source": [
    "# Inference & Evaluation"
   ]
  },
  {
   "cell_type": "markdown",
   "metadata": {},
   "source": [
    "## Load from checkpoint"
   ]
  },
  {
   "cell_type": "code",
   "execution_count": 23,
   "metadata": {},
   "outputs": [
    {
     "name": "stdout",
     "output_type": "stream",
     "text": [
      "INFO:tensorflow:Summary name conv2d/kernel:0/gradient is illegal; using conv2d/kernel_0/gradient instead.\n",
      "INFO:tensorflow:Summary name conv2d/bias:0/gradient is illegal; using conv2d/bias_0/gradient instead.\n",
      "INFO:tensorflow:Summary name conv2d_1/kernel:0/gradient is illegal; using conv2d_1/kernel_0/gradient instead.\n",
      "INFO:tensorflow:Summary name conv2d_1/bias:0/gradient is illegal; using conv2d_1/bias_0/gradient instead.\n",
      "INFO:tensorflow:Summary name conv2d_2/kernel:0/gradient is illegal; using conv2d_2/kernel_0/gradient instead.\n",
      "INFO:tensorflow:Summary name conv2d_2/bias:0/gradient is illegal; using conv2d_2/bias_0/gradient instead.\n",
      "INFO:tensorflow:Summary name conv2d_3/kernel:0/gradient is illegal; using conv2d_3/kernel_0/gradient instead.\n",
      "INFO:tensorflow:Summary name conv2d_3/bias:0/gradient is illegal; using conv2d_3/bias_0/gradient instead.\n",
      "INFO:tensorflow:Summary name conv2d_4/kernel:0/gradient is illegal; using conv2d_4/kernel_0/gradient instead.\n",
      "INFO:tensorflow:Summary name conv2d_4/bias:0/gradient is illegal; using conv2d_4/bias_0/gradient instead.\n",
      "INFO:tensorflow:Summary name last_conv_layer/kernel:0/gradient is illegal; using last_conv_layer/kernel_0/gradient instead.\n",
      "INFO:tensorflow:Summary name last_conv_layer/bias:0/gradient is illegal; using last_conv_layer/bias_0/gradient instead.\n",
      "INFO:tensorflow:Summary name memory_layer/kernel:0/gradient is illegal; using memory_layer/kernel_0/gradient instead.\n",
      "INFO:tensorflow:Summary name embedding_encoder:0/gradient is illegal; using embedding_encoder_0/gradient instead.\n",
      "INFO:tensorflow:Summary name decoder/attention_wrapper/lstm_cell/kernel:0/gradient is illegal; using decoder/attention_wrapper/lstm_cell/kernel_0/gradient instead.\n",
      "INFO:tensorflow:Summary name decoder/attention_wrapper/lstm_cell/bias:0/gradient is illegal; using decoder/attention_wrapper/lstm_cell/bias_0/gradient instead.\n",
      "INFO:tensorflow:Summary name decoder/attention_wrapper/luong_attention/attention_g:0/gradient is illegal; using decoder/attention_wrapper/luong_attention/attention_g_0/gradient instead.\n",
      "INFO:tensorflow:Summary name decoder/attention_wrapper/attention_layer/kernel:0/gradient is illegal; using decoder/attention_wrapper/attention_layer/kernel_0/gradient instead.\n",
      "INFO:tensorflow:Summary name decoder/output_projection/kernel:0/gradient is illegal; using decoder/output_projection/kernel_0/gradient instead.\n",
      "INFO:tensorflow:Summary name conv2d/kernel:0/weight is illegal; using conv2d/kernel_0/weight instead.\n",
      "INFO:tensorflow:Summary name conv2d/bias:0/weight is illegal; using conv2d/bias_0/weight instead.\n",
      "INFO:tensorflow:Summary name conv2d_1/kernel:0/weight is illegal; using conv2d_1/kernel_0/weight instead.\n",
      "INFO:tensorflow:Summary name conv2d_1/bias:0/weight is illegal; using conv2d_1/bias_0/weight instead.\n",
      "INFO:tensorflow:Summary name conv2d_2/kernel:0/weight is illegal; using conv2d_2/kernel_0/weight instead.\n",
      "INFO:tensorflow:Summary name conv2d_2/bias:0/weight is illegal; using conv2d_2/bias_0/weight instead.\n",
      "INFO:tensorflow:Summary name conv2d_3/kernel:0/weight is illegal; using conv2d_3/kernel_0/weight instead.\n",
      "INFO:tensorflow:Summary name conv2d_3/bias:0/weight is illegal; using conv2d_3/bias_0/weight instead.\n",
      "INFO:tensorflow:Summary name conv2d_4/kernel:0/weight is illegal; using conv2d_4/kernel_0/weight instead.\n",
      "INFO:tensorflow:Summary name conv2d_4/bias:0/weight is illegal; using conv2d_4/bias_0/weight instead.\n",
      "INFO:tensorflow:Summary name last_conv_layer/kernel:0/weight is illegal; using last_conv_layer/kernel_0/weight instead.\n",
      "INFO:tensorflow:Summary name last_conv_layer/bias:0/weight is illegal; using last_conv_layer/bias_0/weight instead.\n",
      "INFO:tensorflow:Summary name memory_layer/kernel:0/weight is illegal; using memory_layer/kernel_0/weight instead.\n",
      "INFO:tensorflow:Summary name embedding_encoder:0/weight is illegal; using embedding_encoder_0/weight instead.\n",
      "INFO:tensorflow:Summary name decoder/attention_wrapper/lstm_cell/kernel:0/weight is illegal; using decoder/attention_wrapper/lstm_cell/kernel_0/weight instead.\n",
      "INFO:tensorflow:Summary name decoder/attention_wrapper/lstm_cell/bias:0/weight is illegal; using decoder/attention_wrapper/lstm_cell/bias_0/weight instead.\n",
      "INFO:tensorflow:Summary name decoder/attention_wrapper/luong_attention/attention_g:0/weight is illegal; using decoder/attention_wrapper/luong_attention/attention_g_0/weight instead.\n",
      "INFO:tensorflow:Summary name decoder/attention_wrapper/attention_layer/kernel:0/weight is illegal; using decoder/attention_wrapper/attention_layer/kernel_0/weight instead.\n",
      "INFO:tensorflow:Summary name decoder/output_projection/kernel:0/weight is illegal; using decoder/output_projection/kernel_0/weight instead.\n",
      "restoring\n",
      "INFO:tensorflow:Restoring parameters from /checkpoints/checkpoints/model_8.ckpt\n"
     ]
    }
   ],
   "source": [
    "tf.reset_default_graph()\n",
    "\n",
    "embedding_decoder, decoder_cell, decoder_initial_state, projection_layer, img \\\n",
    "= create_graph(token_vocab_size, hparams['num_units'], hparams['use_attention'], hparams['use_encoding_average_as_initial_state'], False)\n",
    "\n",
    "sess = tf.Session()\n",
    "\n",
    "\n",
    "# Make sure you specify the path correctly\n",
    "initialize_variables(sess, restore=True, path='/checkpoints/checkpoints/model_8.ckpt')\n"
   ]
  },
  {
   "cell_type": "markdown",
   "metadata": {},
   "source": [
    "## Three functions needed for prediction\n",
    " - <i>inference_tensor(...)</i><br>\n",
    " Returns translations tensor <br>\n",
    " - <i>predict_batch(...) </i><br>\n",
    " Runs the translations tensor in a sessoin and returns the actual translations<br>\n",
    " - <i>get_predictions_and_labels(...) </i><br>\n",
    " Predicts on a set of batches and returns the predictions and the ground truth. Making it easy to evaluate."
   ]
  },
  {
   "cell_type": "code",
   "execution_count": 33,
   "metadata": {
    "collapsed": true
   },
   "outputs": [],
   "source": [
    "def inference_tensor(target_token_index,\n",
    "              inference_batch_size,\n",
    "              embedding_decoder,\n",
    "              decoder_cell,\n",
    "              decoder_initial_state,\n",
    "              projection_layer,\n",
    "              maximum_iterations = hparams['max_token_length']):\n",
    "\n",
    "    tgt_sos_id = target_token_index['**start**']  # 1\n",
    "    tgt_eos_id = target_token_index['**end**']  # 0\n",
    "\n",
    "    # Helper\n",
    "    inference_helper = tf.contrib.seq2seq.GreedyEmbeddingHelper(embedding_decoder,\n",
    "        tf.fill([inference_batch_size], tgt_sos_id), tgt_eos_id)\n",
    "\n",
    "    # Decoder\n",
    "    inference_decoder = tf.contrib.seq2seq.BasicDecoder(\n",
    "        decoder_cell, inference_helper, decoder_initial_state,\n",
    "        output_layer=projection_layer)\n",
    "    \n",
    "    # Dynamic decoding\n",
    "    outputs, final_state, _ = tf.contrib.seq2seq.dynamic_decode(\n",
    "        inference_decoder, maximum_iterations=maximum_iterations)\n",
    "\n",
    "    translations = outputs.sample_id\n",
    "    logits = outputs.rnn_output\n",
    "    return translations, logits\n",
    "\n",
    "def predict_batch(sess,\n",
    "                  batch_,\n",
    "                  target_token_index,\n",
    "                  embedding_decoder,\n",
    "                  decoder_cell,\n",
    "                  decoder_initial_state,\n",
    "                  projection_layer,\n",
    "                  img,\n",
    "                  maximum_iterations=hparams['max_token_length']):\n",
    "\n",
    "    batch_len = batch_.shape[0]\n",
    "    translation_t, logits_t = inference_tensor(target_token_index,\n",
    "              batch_len,\n",
    "              embedding_decoder,\n",
    "              decoder_cell,\n",
    "              decoder_initial_state,\n",
    "              projection_layer)\n",
    "    translation, logits = sess.run([translation_t, logits_t], feed_dict={img: batch_})\n",
    "    return translation,logits\n",
    "\n",
    "def get_predictions_and_labels(evaluation_images, evaluation_ground_truth):    \n",
    "    \n",
    "    predictions = []\n",
    "    labels = []    \n",
    "\n",
    "    print(\"Evaluating \" + str(len(evaluation_images)) + \" batches in the \" + EVALUATION_SET + \" set\")\n",
    "    for idx, batch in enumerate(evaluation_images):\n",
    "\n",
    "        output, logits = predict_batch(sess,\n",
    "                      batch,\n",
    "                      target_token_index,\n",
    "                      embedding_decoder,\n",
    "                      decoder_cell,\n",
    "                      decoder_initial_state,\n",
    "                      projection_layer,\n",
    "                      img)\n",
    "\n",
    "        if idx % 20 == 0:\n",
    "            print(\"Progress: \" + str(idx) + \" batches\")\n",
    "\n",
    "        for idy in range(output.shape[0]):\n",
    "            prediction = get_token_seq(output[idy,:])\n",
    "            predictions.append(prediction[:-1])\n",
    "            labels.append(evaluation_ground_truth[idx][idy].split()[1:])\n",
    "            \n",
    "            \n",
    "        # Don't look at the last batch (some bug crept in at the end making it so that all batch_sizes need to be the same)\n",
    "        if idx == (len(evaluation_images) - 2) :\n",
    "            break\n",
    "        \n",
    "    return predictions, labels"
   ]
  },
  {
   "cell_type": "code",
   "execution_count": null,
   "metadata": {},
   "outputs": [],
   "source": []
  },
  {
   "cell_type": "markdown",
   "metadata": {},
   "source": [
    "## Choose was dataset to evaluate on"
   ]
  },
  {
   "cell_type": "code",
   "execution_count": 34,
   "metadata": {
    "collapsed": true
   },
   "outputs": [],
   "source": [
    "EVALUATION_SET = \"VAL\"\n",
    "if EVALUATION_SET == \"VAL\":\n",
    "    evaluation_images = val_encoder_input_data_batches\n",
    "    evaluation_ground_truth = val_target_texts_batches\n",
    "elif EVALUATION_SET == \"TRAIN\":\n",
    "    evaluation_images = train_encoder_input_data_batches\n",
    "    evaluation_ground_truth = train_target_texts_batches\n",
    "elif EVALUATION_SET == \"TEST\":\n",
    "    evaluation_images = test_encoder_input_data_batches\n",
    "    evaluation_ground_truth = test_target_texts_batches"
   ]
  },
  {
   "cell_type": "code",
   "execution_count": null,
   "metadata": {},
   "outputs": [],
   "source": []
  },
  {
   "cell_type": "markdown",
   "metadata": {},
   "source": [
    "## Functions for Metrics."
   ]
  },
  {
   "cell_type": "markdown",
   "metadata": {},
   "source": [
    "### Exact match"
   ]
  },
  {
   "cell_type": "code",
   "execution_count": 35,
   "metadata": {
    "collapsed": true
   },
   "outputs": [],
   "source": [
    "def exact_match(labels, predictions, max_token_check=None):\n",
    "    #\"\"\"Compute exact match\"\"\"\n",
    "    match = 0.0\n",
    "    count = 0.0\n",
    "    if max_token_check == None:\n",
    "        max_token_check = 1000\n",
    "    for idx in range(len(labels)):\n",
    "        if np.all(labels[idx][:max_token_check] == predictions[idx][:max_token_check]):\n",
    "            match += 1\n",
    "\n",
    "        count += 1\n",
    "    return 100 * match / count"
   ]
  },
  {
   "cell_type": "markdown",
   "metadata": {},
   "source": [
    "### Token Accuracy"
   ]
  },
  {
   "cell_type": "code",
   "execution_count": 36,
   "metadata": {
    "collapsed": true
   },
   "outputs": [],
   "source": [
    "def token_accuracy(labels, predictions, max_token_check=None):\n",
    "    #\"\"\"Compute accuracy on per word basis.\"\"\"\n",
    "    total_acc, total_count = 0., 0.\n",
    "    if max_token_check==None:\n",
    "        m_length = 1000\n",
    "    else:\n",
    "        m_length = max_token_check\n",
    "\n",
    "    for idx, target_sentence in enumerate(labels):\n",
    "        prediction = predictions[idx]\n",
    "\n",
    "        match = 0.0\n",
    "\n",
    "        total_count += 1 \n",
    "        for pos in range(min(len(target_sentence), len(prediction), m_length)):\n",
    "            label = target_sentence[pos]\n",
    "            pred = prediction[pos]\n",
    "            if label == pred:\n",
    "                match += 1\n",
    "        \n",
    "             \n",
    "        if max_token_check==None:\n",
    "            total_acc += 100 * match / max(len(target_sentence), len(prediction))\n",
    "        else:\n",
    "            total_acc += 100 * match / min(len(target_sentence), len(prediction), m_length)\n",
    "            \n",
    "    return total_acc / total_count"
   ]
  },
  {
   "cell_type": "markdown",
   "metadata": {},
   "source": [
    "### Edit distance"
   ]
  },
  {
   "cell_type": "code",
   "execution_count": 37,
   "metadata": {
    "collapsed": true
   },
   "outputs": [],
   "source": [
    "def lev_dist(labels, predictions, max_token_check=None):\n",
    "    \n",
    "    # In our report we report this distance * 10. (to get distance per 10 tokens for easier interpretation)\n",
    "    avg_distance = 0\n",
    "    count = 0.0\n",
    "  \n",
    "    for idx in range(len(labels)):\n",
    "\n",
    "        if max_token_check is not None:\n",
    "            lev_distance = distance.levenshtein(labels[idx][:max_token_check], predictions[idx][:max_token_check])\n",
    "            lev_distance = lev_distance / (min(len(labels[idx]), max_token_check))\n",
    "        else:\n",
    "            lev_distance = distance.levenshtein(labels[idx], predictions[idx])\n",
    "            lev_distance = lev_distance / (len(labels[idx]))\n",
    "\n",
    "        avg_distance = avg_distance + lev_distance\n",
    "        count += 1\n",
    "\n",
    "    avg_distance = float(avg_distance) / count\n",
    "    \n",
    "    avg_distance = avg_distance * 10\n",
    "    return avg_distance"
   ]
  },
  {
   "cell_type": "markdown",
   "metadata": {},
   "source": [
    "### Get all the metrics"
   ]
  },
  {
   "cell_type": "code",
   "execution_count": 38,
   "metadata": {
    "collapsed": true
   },
   "outputs": [],
   "source": [
    "def get_metrics(labels, predictions, max_token_check=None):\n",
    "    exact_match_avg = exact_match(labels, predictions, max_token_check)\n",
    "    token_accuracy_avg = token_accuracy(labels, predictions, max_token_check)\n",
    "    edit_distance_avg = lev_dist(labels, predictions, max_token_check)\n",
    "    return {'Exact Match: ': exact_match_avg, 'Token accuracy': token_accuracy_avg, 'Edit distance (per 10 tokens)': edit_distance_avg }"
   ]
  },
  {
   "cell_type": "code",
   "execution_count": null,
   "metadata": {},
   "outputs": [],
   "source": []
  },
  {
   "cell_type": "code",
   "execution_count": 39,
   "metadata": {
    "collapsed": true
   },
   "outputs": [],
   "source": [
    "def get_token_seq(int_sequence):\n",
    "    \n",
    "    output = []\n",
    "    for value in int_sequence:\n",
    "        output.append(reverse_target_token_index[value])\n",
    "        if reverse_target_token_index[value] == \"**end**\":\n",
    "            break\n",
    "    return output\n",
    "\n"
   ]
  },
  {
   "cell_type": "markdown",
   "metadata": {},
   "source": [
    "### Make the predictions and evaluate"
   ]
  },
  {
   "cell_type": "code",
   "execution_count": 43,
   "metadata": {},
   "outputs": [
    {
     "name": "stdout",
     "output_type": "stream",
     "text": [
      "Evaluating 378 batches in the VAL set\n",
      "Progress: 0 batches\n",
      "Progress: 20 batches\n",
      "{'Exact Match: ': 18.452380952380953, 'Token accuracy': 50.442963795977015, 'Edit distance (per 10 tokens)': 3.086552315598655}\n"
     ]
    }
   ],
   "source": [
    "predictions, labels = get_predictions_and_labels(evaluation_images, evaluation_ground_truth)\n",
    "metrics = get_metrics(labels, predictions)\n",
    "print(metrics)"
   ]
  },
  {
   "cell_type": "markdown",
   "metadata": {},
   "source": [
    "### Example predictions in the val set"
   ]
  },
  {
   "cell_type": "code",
   "execution_count": 49,
   "metadata": {},
   "outputs": [
    {
     "name": "stdout",
     "output_type": "stream",
     "text": [
      "EXAMPLE 0\n",
      "Input image\n"
     ]
    },
    {
     "data": {
      "image/png": "[encoded data removed]",
      "text/plain": [
       "<matplotlib.figure.Figure at 0x7fc568a41be0>"
      ]
     },
     "metadata": {},
     "output_type": "display_data"
    },
    {
     "name": "stdout",
     "output_type": "stream",
     "text": [
      "Prediction: \n",
      "E ( v ) = \\frac { d } { d t } E ( q ) \\quad \\forall t \\, .\n",
      "Ground truth: \n",
      "E ( v ) = \\frac { d } { d t } E ( q ) \\; \\; \\; \\; \\; \\; \\; \\forall t \\, .\n",
      "\n",
      "\n",
      "EXAMPLE 1\n",
      "Input image\n"
     ]
    },
    {
     "data": {
      "image/png": "[encoded data removed]",
      "text/plain": [
       "<matplotlib.figure.Figure at 0x7fc5681739e8>"
      ]
     },
     "metadata": {},
     "output_type": "display_data"
    },
    {
     "name": "stdout",
     "output_type": "stream",
     "text": [
      "Prediction: \n",
      "( \\partial _ { \\gamma } , \\partial _ { \\gamma } ) _ { ( 1 0 ) } = \\sqrt { \\tilde { \\Delta } } e ^ { 2 U }\n",
      "Ground truth: \n",
      "( \\partial _ { \\gamma } , \\partial _ { \\gamma } ) _ { ( 1 0 ) } = \\sqrt { \\tilde { \\Delta } } e ^ { 2 U }\n",
      "\n",
      "\n",
      "EXAMPLE 2\n",
      "Input image\n"
     ]
    },
    {
     "data": {
      "image/png": "[encoded data removed]",
      "text/plain": [
       "<matplotlib.figure.Figure at 0x7fc567e7c048>"
      ]
     },
     "metadata": {},
     "output_type": "display_data"
    },
    {
     "name": "stdout",
     "output_type": "stream",
     "text": [
      "Prediction: \n",
      "{ \\cal S } ^ { \\mu \\nu } \\equiv \\epsilon ^ { \\mu \\nu \\rho \\sigma } \\theta _ { \\rho } P _ { \\sigma } = 0 \\ \\ ,\n",
      "Ground truth: \n",
      "{ \\cal S } ^ { \\mu \\nu } \\equiv \\epsilon ^ { \\mu \\nu \\rho \\sigma } \\theta _ { \\rho } P _ { \\sigma } = 0 \\ \\ ,\n",
      "\n",
      "\n",
      "EXAMPLE 3\n",
      "Input image\n"
     ]
    },
    {
     "data": {
      "image/png": "[encoded data removed]",
      "text/plain": [
       "<matplotlib.figure.Figure at 0x7fc567e16ef0>"
      ]
     },
     "metadata": {},
     "output_type": "display_data"
    },
    {
     "name": "stdout",
     "output_type": "stream",
     "text": [
      "Prediction: \n",
      "M _ { P } ^ { 2 } = M _ { P } ^ { 3 } \\int d z e ^ { - 2 \\sigma ( z ) }\n",
      "Ground truth: \n",
      "M _ { P } ^ { 2 } = M _ { s } ^ { 3 } \\int d z e ^ { - 2 \\sigma ( z ) }\n",
      "\n",
      "\n",
      "EXAMPLE 4\n",
      "Input image\n"
     ]
    },
    {
     "data": {
      "image/png": "[encoded data removed]",
      "text/plain": [
       "<matplotlib.figure.Figure at 0x7fc567d07128>"
      ]
     },
     "metadata": {},
     "output_type": "display_data"
    },
    {
     "name": "stdout",
     "output_type": "stream",
     "text": [
      "Prediction: \n",
      "t _ { 1 } = T ~ ~ , \\hspace { 1 c m } t _ { 2 } = T ~ ~ ,\n",
      "Ground truth: \n",
      "t _ { 1 } = T ~ ~ , \\hspace { 2 c m } t _ { 2 } = - \\frac { S } { 2 \\pi i } ,\n",
      "\n",
      "\n",
      "EXAMPLE 5\n",
      "Input image\n"
     ]
    },
    {
     "data": {
      "image/png": "[encoded data removed]",
      "text/plain": [
       "<matplotlib.figure.Figure at 0x7fc567c78ac8>"
      ]
     },
     "metadata": {},
     "output_type": "display_data"
    },
    {
     "name": "stdout",
     "output_type": "stream",
     "text": [
      "Prediction: \n",
      "\\chi _ { h } ^ { N S } ( q ) = \\sum _ { N S } { S } _ { h } ^ { h ^ { \\prime } } \\chi _ { h } ^ { N S } ( q )\n",
      "Ground truth: \n",
      "\\chi _ { h } ^ { N S } ( q ) = \\sum S _ { h } ^ { h ^ { \\prime } } \\chi _ { h ^ { \\prime } } ^ { N S } ( \\tilde { q } )\n",
      "\n",
      "\n",
      "EXAMPLE 6\n",
      "Input image\n"
     ]
    },
    {
     "data": {
      "image/png": "[encoded data removed]",
      "text/plain": [
       "<matplotlib.figure.Figure at 0x7fc567bb4e10>"
      ]
     },
     "metadata": {},
     "output_type": "display_data"
    },
    {
     "name": "stdout",
     "output_type": "stream",
     "text": [
      "Prediction: \n",
      "S \\left( \\hat { A } + \\delta A \\right) = S \\left( \\hat { A } + \\delta A \\right) = S \\left( \\hat { A } + \\delta A \\right)\n",
      "Ground truth: \n",
      "S \\left( \\hat { A } + \\delta A \\right) = S \\left( \\hat { A } \\right)\n",
      "\n",
      "\n",
      "EXAMPLE 7\n",
      "Input image\n"
     ]
    },
    {
     "data": {
      "image/png": "[encoded data removed]",
      "text/plain": [
       "<matplotlib.figure.Figure at 0x7fc567b4e9e8>"
      ]
     },
     "metadata": {},
     "output_type": "display_data"
    },
    {
     "name": "stdout",
     "output_type": "stream",
     "text": [
      "Prediction: \n",
      "\\delta _ { \\epsilon } \\Psi = \\epsilon \\star \\, \\Psi - \\Psi \\star \\Psi = \\epsilon ~ .\n",
      "Ground truth: \n",
      "\\delta _ { \\epsilon } \\Psi = \\epsilon \\star \\Psi - \\Psi \\star \\epsilon \\, \\, .\n",
      "\n",
      "\n",
      "EXAMPLE 8\n",
      "Input image\n"
     ]
    },
    {
     "data": {
      "image/png": "[encoded data removed]",
      "text/plain": [
       "<matplotlib.figure.Figure at 0x7fc567b3cd68>"
      ]
     },
     "metadata": {},
     "output_type": "display_data"
    },
    {
     "name": "stdout",
     "output_type": "stream",
     "text": [
      "Prediction: \n",
      "\\alpha = - \\frac { 1 } { 8 \\operatorname { l n } 2 ) \\pi ^ { 2 } } .\n",
      "Ground truth: \n",
      "\\alpha = - { \\frac { 1 } { 8 ( 3 + 8 \\operatorname { l n } 2 ) \\pi ^ { 2 } } } .\n",
      "\n",
      "\n",
      "EXAMPLE 9\n",
      "Input image\n"
     ]
    },
    {
     "data": {
      "image/png": "[encoded data removed]",
      "text/plain": [
       "<matplotlib.figure.Figure at 0x7fc567c35240>"
      ]
     },
     "metadata": {},
     "output_type": "display_data"
    },
    {
     "name": "stdout",
     "output_type": "stream",
     "text": [
      "Prediction: \n",
      "{ \\cal F } = Q { \\cal A } + { \\cal A } ^ { 2 } = 0 ,\n",
      "Ground truth: \n",
      "{ \\cal F } = Q { \\cal A } + { \\cal A } ^ { 2 } = 0 ,\n",
      "\n",
      "\n",
      "EXAMPLE 10\n",
      "Input image\n"
     ]
    },
    {
     "data": {
      "image/png": "[encoded data removed]",
      "text/plain": [
       "<matplotlib.figure.Figure at 0x7fc56796e4a8>"
      ]
     },
     "metadata": {},
     "output_type": "display_data"
    },
    {
     "name": "stdout",
     "output_type": "stream",
     "text": [
      "Prediction: \n",
      "\\xi ^ { 6 * } ( x ) = \\xi ^ { 1 * } \\left( x \\right) = 0\n",
      "Ground truth: \n",
      "\\xi ^ { 1 * } \\left( x \\right) = \\xi ^ { 6 * } \\left( x \\right) = 0\n",
      "\n",
      "\n",
      "EXAMPLE 11\n",
      "Input image\n"
     ]
    },
    {
     "data": {
      "image/png": "[encoded data removed]",
      "text/plain": [
       "<matplotlib.figure.Figure at 0x7fc567b2a278>"
      ]
     },
     "metadata": {},
     "output_type": "display_data"
    },
    {
     "name": "stdout",
     "output_type": "stream",
     "text": [
      "Prediction: \n",
      "\\Delta = - D ^ { 2 } - \\frac { \\mathrm { i } } { 2 } \\sigma _ { \\mu \\nu } F _ { \\mu \\nu } .\n",
      "Ground truth: \n",
      "\\Delta = - D ^ { 2 } - \\frac { \\mathrm { i } } 2 \\sigma _ { \\mu \\nu } F _ { \\mu \\nu } .\n",
      "\n",
      "\n",
      "EXAMPLE 12\n",
      "Input image\n"
     ]
    },
    {
     "data": {
      "image/png": "[encoded data removed]",
      "text/plain": [
       "<matplotlib.figure.Figure at 0x7fc5679e1ef0>"
      ]
     },
     "metadata": {},
     "output_type": "display_data"
    },
    {
     "name": "stdout",
     "output_type": "stream",
     "text": [
      "Prediction: \n",
      "m \\simeq a \\ \\sqrt { \\frac { \\pi - c } { \\alpha } - c } ,\n",
      "Ground truth: \n",
      "m \\simeq a ~ \\sqrt { | e H | } ~ \\mathrm { e } ^ { - b \\sqrt { \\frac { \\pi } { \\alpha } - c } } ,\n",
      "\n",
      "\n",
      "EXAMPLE 13\n",
      "Input image\n"
     ]
    },
    {
     "data": {
      "image/png": "[encoded data removed]",
      "text/plain": [
       "<matplotlib.figure.Figure at 0x7fc567712898>"
      ]
     },
     "metadata": {},
     "output_type": "display_data"
    },
    {
     "name": "stdout",
     "output_type": "stream",
     "text": [
      "Prediction: \n",
      "- \\frac { 1 } { 8 z _ { 0 } ^ { 2 } } + V ^ { \\prime } ( z _ { 0 } ) = 0 .\n",
      "Ground truth: \n",
      "- \\frac { 1 } { 8 z _ { 0 } ^ { 2 } } + V ^ { \\prime } ( z _ { 0 } ) = 0 .\n",
      "\n",
      "\n",
      "EXAMPLE 14\n",
      "Input image\n"
     ]
    },
    {
     "data": {
      "image/png": "[encoded data removed]",
      "text/plain": [
       "<matplotlib.figure.Figure at 0x7fc5676b75f8>"
      ]
     },
     "metadata": {},
     "output_type": "display_data"
    },
    {
     "name": "stdout",
     "output_type": "stream",
     "text": [
      "Prediction: \n",
      "\\delta _ { _ { \\scriptsize } } \\overline { { Q } } \\sim \\widehat { Q } \\sim \\widehat { Q } \\mathcal { \\frac { w } { 4 c ^ { 2 } \\mu ^ { 2 } } } \\, \\operatorname { l n } \\big \\{ \\frac { w _ { \\! _ { \\odot } } } { w } \\} \\\n",
      "Ground truth: \n",
      "\\delta _ { _ \\ominus } \\overline { Q } \\sim \\widehat Q { \\frac { M w } { 4 c ^ { 2 } \\mu ^ { 2 } } } \\, \\operatorname { l n } \\big \\{ { \\frac { w _ { \\! _ { \\odot } } } { w } } \\} \\ .\n",
      "\n",
      "\n"
     ]
    }
   ],
   "source": [
    "example_range = range(0,40)\n",
    "\n",
    "for i in example_range:\n",
    "    batch_num = int(i / hparams['mini_batch_size'])\n",
    "    example_num_in_batch = int(i % hparams['mini_batch_size'])\n",
    "    \n",
    "    print(\"EXAMPLE \" + str(i))\n",
    "    print(\"Input image\")\n",
    "    plt.imshow(np.squeeze(evaluation_images[batch_num][example_num_in_batch]), cmap='gray')\n",
    "    plt.show()\n",
    "    \n",
    "    print(\"Prediction: \")\n",
    "    print(*predictions[i])\n",
    "    \n",
    "    print(\"Ground truth: \")\n",
    "    print(*labels[i])\n",
    "    \n",
    "    print(\"\")\n",
    "    print(\"\")"
   ]
  },
  {
   "cell_type": "code",
   "execution_count": null,
   "metadata": {
    "collapsed": true
   },
   "outputs": [],
   "source": [
    "### More example predictions in the val set (without showing the images)"
   ]
  },
  {
   "cell_type": "code",
   "execution_count": null,
   "metadata": {
    "collapsed": true
   },
   "outputs": [],
   "source": [
    "example_range = range(80,90)"
   ]
  }
 ],
 "metadata": {
  "kernelspec": {
   "display_name": "Python 2",
   "language": "python",
   "name": "python2"
  },
  "language_info": {
   "codemirror_mode": {
    "name": "ipython",
    "version": 2
   },
   "file_extension": ".py",
   "mimetype": "text/x-python",
   "name": "python",
   "nbconvert_exporter": "python",
   "pygments_lexer": "ipython2",
   "version": "2.7.14"
  }
 },
 "nbformat": 4,
 "nbformat_minor": 2
}
