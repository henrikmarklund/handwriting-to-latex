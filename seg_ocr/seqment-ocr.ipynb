{
 "cells": [
  {
   "cell_type": "code",
   "execution_count": 79,
   "metadata": {},
   "outputs": [],
   "source": [
    "import load_data\n",
    "\n",
    "from keras.datasets import mnist\n",
    "import matplotlib.pyplot as plt\n",
    "\n",
    "\n",
    "from keras.datasets import mnist\n",
    "from keras.models import Sequential\n",
    "from keras.layers import Dense, Dropout, Flatten\n",
    "from keras.layers.convolutional import Conv2D, MaxPooling2D\n",
    "from keras.utils import np_utils\n",
    "\n",
    "from keras.preprocessing.image import ImageDataGenerator\n",
    "import numpy as np\n",
    "import datetime\n",
    "import cv2\n",
    "import math\n",
    "\n",
    "import pickle\n",
    "\n",
    "import helper_functions as hf\n",
    "import segment_helper_functions as seg_hf\n",
    "\n",
    "import recursive_profile_cutting as rpc"
   ]
  },
  {
   "cell_type": "code",
   "execution_count": 80,
   "metadata": {},
   "outputs": [
    {
     "data": {
      "text/plain": [
       "<module 'recursive_profile_cutting' from 'recursive_profile_cutting.py'>"
      ]
     },
     "execution_count": 80,
     "metadata": {},
     "output_type": "execute_result"
    }
   ],
   "source": [
    "reload(load_data)\n",
    "reload(hf)\n",
    "reload(seg_hf)\n",
    "reload(rpc)"
   ]
  },
  {
   "cell_type": "code",
   "execution_count": 3,
   "metadata": {},
   "outputs": [],
   "source": [
    "hparams = {}\n",
    "hparams['model'] = \"BASELINE\" # \"BASELINE\", \"CONVNET1\"\n",
    "hparams['augmented_data'] = False\n",
    "hparams['crop_width'] = 30\n",
    "hparams['crop_height'] = 35\n",
    "hparams['dsample_factor'] = 0.6\n",
    "\n",
    "hparams['epochs'] = 5\n",
    "\n",
    "\n",
    "hparams['load_from_pickle'] = False\n",
    "hparams['save_to_pickle'] = False # Currently super slow"
   ]
  },
  {
   "cell_type": "code",
   "execution_count": null,
   "metadata": {},
   "outputs": [],
   "source": [
    "\n"
   ]
  },
  {
   "cell_type": "code",
   "execution_count": null,
   "metadata": {},
   "outputs": [],
   "source": []
  },
  {
   "cell_type": "code",
   "execution_count": 4,
   "metadata": {},
   "outputs": [
    {
     "name": "stdout",
     "output_type": "stream",
     "text": [
      "('Max width: ', 120)\n",
      "('Min width: ', 5)\n",
      "('Mean width: ', 35.558135254894744)\n",
      "('Max height: ', 188)\n",
      "('Min heigh: ', 2)\n",
      "('Mean height: ', 47.714696263997624)\n",
      "('Number of examples: ', 70637)\n"
     ]
    }
   ],
   "source": [
    "if hparams['load_from_pickle']:\n",
    "    data_pickle = pickle.load( open( \"data_pickle.p\", \"rb\" ) )\n",
    "    X = data_pickle['X']\n",
    "    Y = data_pickle['Y']\n",
    "    num_unique = data_pickle['num_unique']\n",
    "    target_token_index = data_pickle['target_token_index']  \n",
    "else:\n",
    "    X, Y, num_unique, target_token_index = load_data.load_math_symbols()\n",
    "    if hparams['save_to_pickle']:\n",
    "        data_pickle = {'X': X, 'Y': Y, 'num_unique': num_unique, 'target_token_index': target_token_index}\n",
    "        pickle.dump( data_pickle, open( \"data_pickle.p\", \"wb\" ) )\n",
    "    \n",
    "\n",
    "## Todo: Save and load from pickle"
   ]
  },
  {
   "cell_type": "code",
   "execution_count": null,
   "metadata": {},
   "outputs": [],
   "source": []
  },
  {
   "cell_type": "code",
   "execution_count": null,
   "metadata": {},
   "outputs": [],
   "source": []
  },
  {
   "cell_type": "code",
   "execution_count": 6,
   "metadata": {},
   "outputs": [],
   "source": [
    "reverse_target_token_index = dict(\n",
    "    (i, token) for token, i in target_token_index.items())\n",
    "\n",
    "orig_shape = (X.shape[1], X.shape[2])\n",
    "X, Y = hf.shuffle_data(X,Y, seed=100)"
   ]
  },
  {
   "cell_type": "code",
   "execution_count": 7,
   "metadata": {},
   "outputs": [],
   "source": [
    "hex_to_token_dict = load_data.get_hex_to_token_dict()"
   ]
  },
  {
   "cell_type": "code",
   "execution_count": null,
   "metadata": {},
   "outputs": [],
   "source": []
  },
  {
   "cell_type": "code",
   "execution_count": 15,
   "metadata": {},
   "outputs": [],
   "source": [
    "# Down sample images\n",
    "\n",
    "X_small = hf.down_sample(X, hparams['dsample_factor'])"
   ]
  },
  {
   "cell_type": "code",
   "execution_count": 16,
   "metadata": {},
   "outputs": [],
   "source": [
    "## Split up to train/val set and test set\n",
    "\n",
    "Y = np_utils.to_categorical(Y, num_classes = num_unique)\n",
    "\n",
    "X_train = X_small[:60000]\n",
    "X_test = X_small[60000:]\n",
    "\n",
    "Y_train = Y[:60000]\n",
    "Y_test = Y[60000:]\n"
   ]
  },
  {
   "cell_type": "code",
   "execution_count": null,
   "metadata": {},
   "outputs": [],
   "source": []
  },
  {
   "cell_type": "code",
   "execution_count": 19,
   "metadata": {},
   "outputs": [],
   "source": [
    "def augment_data(X,Y, num_samples):\n",
    "    shift = 0.05\n",
    "    zoom = 0.1\n",
    "    shear = 0.2\n",
    "    datagen = ImageDataGenerator(zoom_range=zoom, width_shift_range=shift, height_shift_range=shift)\n",
    "    #datagen = ImageDataGenerator(zoom_range=zoom)\n",
    "\n",
    "\n",
    "    # fit parameters from data\n",
    "    X = np.reshape(X, (X.shape[0], X.shape[1], X.shape[2], 1))\n",
    "    datagen.fit(X)\n",
    "    # Configure batch size and retrieve one batch of images\n",
    "\n",
    "    for X_batch, y_batch in datagen.flow(X, Y_train, batch_size=num_samples):\n",
    "        # Show 9 images\n",
    "        for i in range(0, 9):\n",
    "            plt.subplot(330 + 1 + i)\n",
    "            plt.imshow(np.squeeze(X_batch[i]), cmap='gray')\n",
    "        # show the plot\n",
    "        plt.show()\n",
    "\n",
    "        return X_batch, y_batch\n"
   ]
  },
  {
   "cell_type": "code",
   "execution_count": 21,
   "metadata": {},
   "outputs": [],
   "source": [
    "if hparams['augmented_data']:\n",
    "    X_train_augmented, Y_train_augmented = augment_data(X_train,Y_train, 100000)"
   ]
  },
  {
   "cell_type": "code",
   "execution_count": null,
   "metadata": {},
   "outputs": [],
   "source": []
  },
  {
   "cell_type": "code",
   "execution_count": 22,
   "metadata": {},
   "outputs": [],
   "source": [
    "X_test = hf.crop_images(X_test, hparams['crop_width'], hparams['crop_height'])\n",
    "\n",
    "if hparams['augmented_data']:\n",
    "    X_train = hf.crop_images(X_train_augmented, hparams['crop_width'], hparams['crop_height'])\n",
    "else:\n",
    "    X_train = hf.crop_images(X_train, hparams['crop_width'], hparams['crop_height'])\n"
   ]
  },
  {
   "cell_type": "code",
   "execution_count": null,
   "metadata": {},
   "outputs": [],
   "source": []
  },
  {
   "cell_type": "code",
   "execution_count": 23,
   "metadata": {},
   "outputs": [],
   "source": [
    "## Normalize and invert\n",
    "X_test_normalized = hf.normalize_and_invert(X_test)\n",
    "X_train_normalized = hf.normalize_and_invert(X_train)"
   ]
  },
  {
   "cell_type": "code",
   "execution_count": 24,
   "metadata": {},
   "outputs": [],
   "source": [
    "## Reshape images depending on model\n",
    "\n",
    "\n",
    "if hparams['model'] == \"BASELINE\":\n",
    "\n",
    "    X_train_vecs = hf.flatten(X_train_normalized)\n",
    "    X_test_vecs = hf.flatten(X_test_normalized)\n",
    "\n",
    "#If we are using a convnet\n",
    "else:\n",
    "    X_train_vecs = hf.add_dimension(X_train_normalized)\n",
    "    X_test_vecs = hf.add_dimension(X_test_normalized)\n",
    "\n",
    "if hparams['augmented_data']:\n",
    "    Y_train = Y_train_augmented\n"
   ]
  },
  {
   "cell_type": "code",
   "execution_count": 25,
   "metadata": {},
   "outputs": [],
   "source": [
    "assert Y_train.shape[0] == X_train_vecs.shape[0]"
   ]
  },
  {
   "cell_type": "code",
   "execution_count": 26,
   "metadata": {},
   "outputs": [],
   "source": [
    "# BOTH MODELS FROM https://machinelearningmastery.com/handwritten-digit-recognition-using-convolutional-neural-networks-python-keras/\n",
    "num_pixels = X_train_vecs.shape[1]\n",
    "num_classes = Y_test.shape[1]\n",
    "\n",
    "def baseline_model():\n",
    "    # create model\n",
    "    model = Sequential()\n",
    "    model.add(Dense(num_pixels, input_dim=num_pixels, kernel_initializer='normal', activation='relu'))\n",
    "    model.add(Dense(num_classes, kernel_initializer='normal', activation='softmax'))\n",
    "    # Compile model\n",
    "    model.compile(loss='categorical_crossentropy', optimizer='adam', metrics=['accuracy'])\n",
    "    return model\n",
    "\n",
    "# define the larger model\n",
    "def convnet1(image_size):\n",
    "    # create model\n",
    "    \n",
    "    height = image_size[0]\n",
    "    width = image_size[1]\n",
    "    \n",
    "    model = Sequential()\n",
    "    model.add(Conv2D(30, (5, 5), input_shape=(height, width, 1), activation='relu'))\n",
    "    model.add(MaxPooling2D(pool_size=(2, 2)))\n",
    "    model.add(Conv2D(15, (3, 3), activation='relu'))\n",
    "    model.add(MaxPooling2D(pool_size=(2, 2)))\n",
    "    #model.add(Dropout(0.2))\n",
    "    model.add(Flatten())\n",
    "    model.add(Dense(128, activation='relu'))\n",
    "    model.add(Dense(50, activation='relu'))\n",
    "    model.add(Dense(num_classes, activation='softmax'))\n",
    "    # Compile model\n",
    "    model.compile(loss='categorical_crossentropy', optimizer='adam', metrics=['accuracy'])\n",
    "    return model\n",
    "\n",
    "def convnet2(image_size):\n",
    "    # create model\n",
    "    \n",
    "    height = image_size[0]\n",
    "    width = image_size[1]\n",
    "    \n",
    "    model = Sequential()\n",
    "    model.add(Conv2D(30, (5, 5), input_shape=(height, width, 1), activation='relu'))\n",
    "    model.add(Conv2D(15, (3, 3), activation='relu'))\n",
    "    model.add(Flatten())\n",
    "    model.add(Dense(128, activation='relu'))\n",
    "    model.add(Dense(50, activation='relu'))\n",
    "    model.add(Dense(num_classes, activation='softmax'))\n",
    "    # Compile model\n",
    "    model.compile(loss='categorical_crossentropy', optimizer='adam', metrics=['accuracy'])\n",
    "    return model\n"
   ]
  },
  {
   "cell_type": "code",
   "execution_count": 27,
   "metadata": {},
   "outputs": [
    {
     "name": "stdout",
     "output_type": "stream",
     "text": [
      "Train on 54000 samples, validate on 6000 samples\n",
      "Epoch 1/5\n",
      " - 15s - loss: 0.5191 - acc: 0.9000 - val_loss: 0.1572 - val_acc: 0.9677\n",
      "Epoch 2/5\n",
      " - 14s - loss: 0.0955 - acc: 0.9777 - val_loss: 0.1025 - val_acc: 0.9803\n",
      "Epoch 3/5\n",
      " - 13s - loss: 0.0565 - acc: 0.9872 - val_loss: 0.0969 - val_acc: 0.9838\n",
      "Epoch 4/5\n",
      " - 14s - loss: 0.0438 - acc: 0.9899 - val_loss: 0.0894 - val_acc: 0.9842\n",
      "Epoch 5/5\n",
      " - 13s - loss: 0.0369 - acc: 0.9919 - val_loss: 0.0922 - val_acc: 0.9845\n"
     ]
    }
   ],
   "source": [
    "# build the model\n",
    "\n",
    "if hparams['model'] == \"BASELINE\":\n",
    "    print(\"Training BASELINE\")\n",
    "    model = baseline_model()\n",
    "elif hparams['model'] == \"CONVNET1\":\n",
    "    print(\"Training CONVNET1\")\n",
    "    model = convnet1((hparams['crop_height'], hparams['crop_width']))\n",
    "elif hparams['model'] == \"CONVNET2\":\n",
    "    model = convnet2((hparams['crop_height'], hparams['crop_width']))\n",
    "# Fit the model\n",
    "\n",
    "\n",
    "fit_history = model.fit(X_train_vecs, Y_train, validation_split=0.10, epochs=hparams['epochs'], batch_size=200, verbose=2)\n",
    "# Final evaluation of the model\n",
    "\n",
    "\n"
   ]
  },
  {
   "cell_type": "code",
   "execution_count": 28,
   "metadata": {},
   "outputs": [
    {
     "name": "stdout",
     "output_type": "stream",
     "text": [
      "Baseline Error: 1.62%\n"
     ]
    }
   ],
   "source": [
    "scores = model.evaluate(X_test_vecs, Y_test, verbose=0)\n",
    "print(\"Baseline Error: %.2f%%\" % (100-scores[1]*100))"
   ]
  },
  {
   "cell_type": "code",
   "execution_count": 32,
   "metadata": {},
   "outputs": [
    {
     "name": "stdout",
     "output_type": "stream",
     "text": [
      "['acc', 'loss', 'val_acc', 'val_loss']\n"
     ]
    },
    {
     "data": {
      "image/png": "[encoded data removed]",
      "text/plain": [
       "<matplotlib.figure.Figure at 0x104599910>"
      ]
     },
     "metadata": {},
     "output_type": "display_data"
    },
    {
     "data": {
      "image/png": "[encoded data removed]",
      "text/plain": [
       "<matplotlib.figure.Figure at 0x6370a78d0>"
      ]
     },
     "metadata": {},
     "output_type": "display_data"
    }
   ],
   "source": [
    "hf.visualize_training_history(fit_history)\n"
   ]
  },
  {
   "cell_type": "code",
   "execution_count": null,
   "metadata": {},
   "outputs": [],
   "source": []
  },
  {
   "cell_type": "code",
   "execution_count": null,
   "metadata": {},
   "outputs": [],
   "source": []
  },
  {
   "cell_type": "code",
   "execution_count": null,
   "metadata": {},
   "outputs": [],
   "source": [
    "## SEGMENTING EQUATIONS"
   ]
  },
  {
   "cell_type": "code",
   "execution_count": 35,
   "metadata": {},
   "outputs": [],
   "source": [
    "## Load Equation dataset\n",
    "\n",
    "equation_images = load_data.load_equations(40) "
   ]
  },
  {
   "cell_type": "code",
   "execution_count": 38,
   "metadata": {},
   "outputs": [
    {
     "data": {
      "image/png": "[encoded data removed]",
      "text/plain": [
       "<matplotlib.figure.Figure at 0x413e0bb10>"
      ]
     },
     "metadata": {},
     "output_type": "display_data"
    }
   ],
   "source": [
    "\n",
    "\n",
    "plt.imshow(equation_images[39], cmap='gray')\n",
    "plt.show()"
   ]
  },
  {
   "cell_type": "code",
   "execution_count": null,
   "metadata": {},
   "outputs": [],
   "source": []
  },
  {
   "cell_type": "code",
   "execution_count": null,
   "metadata": {},
   "outputs": [],
   "source": []
  },
  {
   "cell_type": "code",
   "execution_count": 52,
   "metadata": {},
   "outputs": [],
   "source": [
    "def show_segmented_equation(equation_image, smaller_images, show_each_symbol=False):\n",
    "\n",
    "\n",
    "    backtorgb = np.copy(equation_image)\n",
    "    plt.imshow(equation_image, cmap='gray')\n",
    "\n",
    "    for image_with_position in smaller_images:\n",
    "\n",
    "        plt.show()\n",
    "\n",
    "        smaller_image = image_with_position['image']\n",
    "        smaller_image_shape = image_with_position['image'].shape\n",
    "\n",
    "        corner1y = image_with_position['position'][0]\n",
    "        corner1x = image_with_position['position'][1]\n",
    "        corner1 = (corner1x, corner1y)\n",
    "\n",
    "        corner2y = corner1y + smaller_image_shape[0] - 1\n",
    "        corner2x = corner1x + smaller_image_shape[1]\n",
    "\n",
    "        corner2 = (corner2x, corner2y) # x, y\n",
    "\n",
    "        cv2.rectangle(backtorgb,corner1,corner2,(0,255,0),3)\n",
    "\n",
    "\n",
    "        if show_each_symbol:\n",
    "            \n",
    "            print(\"Predicted token: \", image_with_position['predicted_token'])\n",
    "            plt.imshow(smaller_image, cmap='gray')\n",
    "            plt.show()\n",
    "\n",
    "\n",
    "    plt.imshow(backtorgb, cmap='gray')\n",
    "    plt.show()"
   ]
  },
  {
   "cell_type": "code",
   "execution_count": null,
   "metadata": {},
   "outputs": [],
   "source": []
  },
  {
   "cell_type": "code",
   "execution_count": null,
   "metadata": {},
   "outputs": [],
   "source": []
  },
  {
   "cell_type": "code",
   "execution_count": 40,
   "metadata": {},
   "outputs": [],
   "source": []
  },
  {
   "cell_type": "code",
   "execution_count": null,
   "metadata": {},
   "outputs": [],
   "source": []
  },
  {
   "cell_type": "code",
   "execution_count": 41,
   "metadata": {},
   "outputs": [],
   "source": [
    "#smaller_images[0].shape\n",
    "\n",
    "#padded_images"
   ]
  },
  {
   "cell_type": "code",
   "execution_count": 42,
   "metadata": {},
   "outputs": [],
   "source": [
    "#40 35\n",
    "\n",
    "ta_size = orig_shape\n",
    "\n",
    "\n",
    "\n",
    "\n"
   ]
  },
  {
   "cell_type": "code",
   "execution_count": 85,
   "metadata": {},
   "outputs": [],
   "source": [
    "def preprocess_images_for_predict(smaller_images, orig_shape):\n",
    "    padded_images = hf.pad_images(smaller_images, orig_shape)\n",
    "\n",
    "    down_sampled_images = hf.down_sample(padded_images,hparams['dsample_factor'])\n",
    "\n",
    "    h = down_sampled_images.shape[1]\n",
    "    w = down_sampled_images.shape[2]\n",
    "\n",
    "    h_start = int(h / 2 - hparams['crop_height'] / 2)\n",
    "    w_start = int(w / 2 - hparams['crop_width'] / 2)\n",
    "\n",
    "\n",
    "    final_images = down_sampled_images[:, h_start:h_start+hparams['crop_height'], w_start:w_start+hparams['crop_width']]\n",
    "    \n",
    "    return final_images"
   ]
  },
  {
   "cell_type": "code",
   "execution_count": 54,
   "metadata": {},
   "outputs": [],
   "source": [
    "\n",
    "#image_to_predict = np.reshape(X_train[611], (1, X_train[611].shape[0]*X_train[611].shape[1]))"
   ]
  },
  {
   "cell_type": "code",
   "execution_count": 55,
   "metadata": {},
   "outputs": [],
   "source": [
    "def last_step_before_predict(final_images):\n",
    "    images_to_predict = np.reshape(final_images, (final_images.shape[0], final_images.shape[1]*final_images.shape[2]))\n",
    "    images_to_predict = 255 - images_to_predict\n",
    "    images_to_predict = images_to_predict.astype('float')\n",
    "    images_to_predict = images_to_predict / 255.0\n",
    "    return images_to_predict\n"
   ]
  },
  {
   "cell_type": "code",
   "execution_count": null,
   "metadata": {},
   "outputs": [],
   "source": []
  },
  {
   "cell_type": "code",
   "execution_count": null,
   "metadata": {},
   "outputs": [],
   "source": []
  },
  {
   "cell_type": "code",
   "execution_count": 56,
   "metadata": {},
   "outputs": [],
   "source": [
    "def predict_smaller_images(images, orig_shape):\n",
    "\n",
    "    \n",
    "    images_with_positions = images\n",
    "\n",
    "    smaller_images = seg_hf.get_just_images(images)\n",
    "    \n",
    "    final_images = preprocess_images_for_predict(smaller_images, orig_shape)\n",
    "    images_to_predict = last_step_before_predict(final_images)\n",
    "    output = model.predict(images_to_predict)\n",
    "    tokenids = np.argmax(output, axis=1)\n",
    "    #print(len(tokenids))\n",
    "    \n",
    "    for idx, o in enumerate(tokenids):\n",
    "        hexa = reverse_target_token_index[o]\n",
    "\n",
    "        token = hex_to_token_dict[hexa]\n",
    "        #real_output.append([token, o])\n",
    "        images[idx]['predicted_token_id'] = o\n",
    "\n",
    "        images[idx]['id'] = idx\n",
    "        images[idx]['predicted_token'] = token\n",
    "        \n",
    "    return images"
   ]
  },
  {
   "cell_type": "code",
   "execution_count": null,
   "metadata": {},
   "outputs": [],
   "source": []
  },
  {
   "cell_type": "code",
   "execution_count": 57,
   "metadata": {},
   "outputs": [],
   "source": [
    "# Learned this from: https://stackoverflow.com/questions/8242832/python-all-possible-pairs-of-2-list-elements-and-getting-the-index-of-that-pair\n",
    "import itertools\n",
    "def all_pairs(lst):\n",
    "    for p in itertools.combinations(lst,2):\n",
    "        i = iter(p)\n",
    "        yield zip(i,i)"
   ]
  },
  {
   "cell_type": "code",
   "execution_count": 87,
   "metadata": {},
   "outputs": [],
   "source": [
    "def check_if_equal_sign(image_1,image_2):\n",
    "    predicted1 = image_1['predicted_token']\n",
    "    predicted2 = image_2['predicted_token']\n",
    "    \n",
    "    if predicted1 != 'minus' or predicted2 != 'minus':\n",
    "        return False\n",
    "    \n",
    "    \n",
    "    w1 = image_1['image'].shape[1]\n",
    "    w2 = image_2['image'].shape[1]\n",
    "    \n",
    "    cx1 = seg_hf.get_center_from_image(image_1)[1]\n",
    "    cx2 = seg_hf.get_center_from_image(image_2)[1]\n",
    "    \n",
    "    \n",
    "    \n",
    "    if np.abs(w1-w2) > 4:\n",
    "        return False\n",
    "    if np.abs(cx1 - cx2) > 4:\n",
    "        return False\n",
    "    \n",
    "    return True"
   ]
  },
  {
   "cell_type": "code",
   "execution_count": 107,
   "metadata": {},
   "outputs": [],
   "source": [
    "def check_if_lc_i(image_1,image_2):\n",
    "    predicted1 = image_1['predicted_token']\n",
    "    predicted2 = image_2['predicted_token']\n",
    "    \n",
    "    top_symbols = ['comma', 'prime', 'ast']\n",
    "    bottom_symbols = ['one', 'l']\n",
    "    \n",
    "    w1 = image_1['image'].shape[1]\n",
    "    w2 = image_2['image'].shape[1]\n",
    "    \n",
    "    cx1 = seg_hf.get_center_from_image(image_1)[1]\n",
    "    cx2 = seg_hf.get_center_from_image(image_2)[1]\n",
    "    \n",
    "    if np.abs(w1-w2) > 10:\n",
    "        return False\n",
    "    if np.abs(cx1 - cx2) > 10:\n",
    "        return False\n",
    "    \n",
    "    \n",
    "    if is_on_top(image_1, image_2):\n",
    "        if (predicted1 in top_symbols and predicted2 in bottom_symbols):\n",
    "            return True\n",
    "    elif is_on_top(image_2, image_1):\n",
    "        if (predicted1 in bottom_symbols and predicted2 in top_symbols):\n",
    "            return True\n",
    "    \n",
    "    \n",
    "    \n",
    "    return False\n"
   ]
  },
  {
   "cell_type": "code",
   "execution_count": 91,
   "metadata": {},
   "outputs": [],
   "source": [
    "## Works\n",
    "\n",
    "def is_on_top(image_1, image_2):\n",
    "    centery1, centerx1 = seg_hf.get_center_from_image(image_1)\n",
    "    centery2, centerx2 = seg_hf.get_center_from_image(image_2)\n",
    "    \n",
    "    if centery1 < centery2:\n",
    "        \n",
    "        return True\n",
    "    elif centery1 >= centery2:\n",
    "        return False\n",
    "    "
   ]
  },
  {
   "cell_type": "code",
   "execution_count": 92,
   "metadata": {},
   "outputs": [],
   "source": [
    "def concat_images(image_1, image_2):\n",
    "    \n",
    "    if is_on_top(image_1, image_2):\n",
    "        print(\"Is on top\")\n",
    "        new_y1 = image_1['position'][0]\n",
    "        new_x1 = min(image_1['position'][1],image_2['position'][1])\n",
    "        \n",
    "        yoffset = image_2['position'][0] - image_1['position'][0] - image_1['image'].shape[0]\n",
    "        \n",
    "        image_2_height = image_2['image'].shape[0]\n",
    "        image_2_width = image_2['image'].shape[1]\n",
    "        \n",
    "        image_1_height = image_1['image'].shape[0]\n",
    "        image_1_width = image_1['image'].shape[1]\n",
    "        \n",
    "        new_height = image_1_height + image_2_height + yoffset\n",
    "        new_width = max(image_1_width, image_2_width)\n",
    "        \n",
    "        new_image = 255 * np.ones((new_height, new_width))\n",
    "        \n",
    "        new_image[:image_1_height, :image_1_width] = image_1['image']\n",
    "        new_image[image_1_height+yoffset:, :image_2_width] = image_2['image']\n",
    "    else:\n",
    "        new_y1 = image_2['position'][0]\n",
    "        new_x1 = min(image_1['position'][1],image_2['position'][1])\n",
    "\n",
    "        yoffset = image_1['position'][0] - image_2['position'][0] - image_2['image'].shape[0]\n",
    "        image_2_height = image_2['image'].shape[0]\n",
    "        image_2_width = image_2['image'].shape[1]\n",
    "        \n",
    "        image_1_height = image_1['image'].shape[0]\n",
    "        image_1_width = image_1['image'].shape[1]\n",
    "        \n",
    "        new_height = image_1_height + image_2_height + yoffset\n",
    "        new_width = max(image_1_width, image_2_width)\n",
    "        \n",
    "        new_image = 255 * np.ones((new_height, new_width))\n",
    "        print(\"Showing image 2: \")\n",
    "        plt.imshow(image_2['image'])\n",
    "        plt.show()\n",
    "        print(\"position: \", image_2['position'])\n",
    "        \n",
    "        print(\"Showing image 1: \")\n",
    "        plt.imshow(image_1['image'])\n",
    "        plt.show()\n",
    "        print(\"position: \", image_1['position'])\n",
    "        \n",
    "        new_image[:image_2_height, :image_2_width] = image_2['image']\n",
    "        print(\"new_height: \", new_height)\n",
    "        print(\"yoffset: \", yoffset)\n",
    "        print(\"image_1 shape\", image_1['image'].shape)\n",
    "        new_image[image_2_height+yoffset:, :image_1_width] = image_1['image']\n",
    "    \n",
    "    \n",
    "    new_image_with_position = {}\n",
    "    new_image_with_position['image'] = new_image\n",
    "    new_image_with_position['position'] = (new_y1, new_x1)\n",
    "    \n",
    "    \n",
    "    return new_image_with_position"
   ]
  },
  {
   "cell_type": "code",
   "execution_count": 93,
   "metadata": {},
   "outputs": [],
   "source": [
    "def find_lc_is(images):\n",
    "    ids_to_remove = []\n",
    "    \n",
    "    new_predicted_images = []\n",
    "    new_list = all_pairs(images)\n",
    "    \n",
    "    lower_case_is = []\n",
    "    \n",
    "    for pair in new_list:\n",
    "        \n",
    "        image_1 = pair[0][0]\n",
    "        image_2 = pair[0][1]\n",
    "        #print(image_1['id'])\n",
    "        #print(image_2['id'])\n",
    "        if check_if_lc_i(image_1,image_2):\n",
    "            new_image = concat_images(image_1, image_2)\n",
    "            #print(\"found one equal sign\")\n",
    "            ids_to_remove.append(image_1['id'])\n",
    "            ids_to_remove.append(image_2['id'])\n",
    "\n",
    "            new_image['id'] = image_1['id']\n",
    "            new_image['predicted_token'] = 'i'\n",
    "            lower_case_is.append(new_image)\n",
    "    \n",
    "    \n",
    "    \n",
    "    for image in images:\n",
    "        if image['id'] not in ids_to_remove:\n",
    "            new_predicted_images.append(image)\n",
    "    \n",
    "    for lower_case_i in lower_case_is:\n",
    "        new_predicted_images.append(lower_case_i)\n",
    "    \n",
    "    return new_predicted_images"
   ]
  },
  {
   "cell_type": "code",
   "execution_count": 94,
   "metadata": {},
   "outputs": [],
   "source": [
    "def find_equal_signs(images):\n",
    "    ids_to_remove = []\n",
    "    \n",
    "    new_predicted_images = []\n",
    "    \n",
    "    equal_signs = []\n",
    "    new_list = all_pairs(images)\n",
    "    for pair in new_list:\n",
    "        \n",
    "        image_1 = pair[0][0]\n",
    "        image_2 = pair[0][1]\n",
    "\n",
    "        if check_if_equal_sign(image_1,image_2):\n",
    "            new_image = concat_images(image_1, image_2)\n",
    "            #print(\"found one equal sign\")\n",
    "            ids_to_remove.append(image_1['id'])\n",
    "            ids_to_remove.append(image_2['id'])\n",
    "\n",
    "            \n",
    "            new_image['id'] = image_1['id']\n",
    "            new_image['predicted_token'] = 'equal'\n",
    "            equal_signs.append(new_image)\n",
    "    \n",
    "    \n",
    "    \n",
    "    for image in images:\n",
    "        if image['id'] not in ids_to_remove:\n",
    "            new_predicted_images.append(image)\n",
    "    \n",
    "    for equal_sign in equal_signs:\n",
    "        new_predicted_images.append(equal_sign)\n",
    "    \n",
    "    return new_predicted_images"
   ]
  },
  {
   "cell_type": "code",
   "execution_count": 95,
   "metadata": {},
   "outputs": [],
   "source": [
    "def apply_rules(predicted_images):\n",
    "    images_processed = find_equal_signs(predicted_images)\n",
    "    images_processed = find_lc_is(images_processed)\n",
    "    \n",
    "    return images_processed"
   ]
  },
  {
   "cell_type": "code",
   "execution_count": 96,
   "metadata": {},
   "outputs": [],
   "source": [
    "#new_list = all_pairs(predicted_images)\n",
    "\n"
   ]
  },
  {
   "cell_type": "code",
   "execution_count": 97,
   "metadata": {},
   "outputs": [],
   "source": [
    "def get_image_area(image_with_position):\n",
    "    image_shape = image_with_position['image'].shape\n",
    "    return image_shape[0] * image_shape[1]"
   ]
  },
  {
   "cell_type": "code",
   "execution_count": 98,
   "metadata": {},
   "outputs": [],
   "source": [
    "\n",
    "def segment_and_apply_rules(equation_image, orig_shape):\n",
    "\n",
    "\n",
    "    img_with_positions = rpc.segment_equation(equation_image)\n",
    "    show_segmented_equation(equation_image, img_with_positions)\n",
    "\n",
    "    predicted_images = predict_smaller_images(img_with_positions, orig_shape)\n",
    "    rules_applied = apply_rules(predicted_images)\n",
    "\n",
    "    show_segmented_equation(equation_image, rules_applied)\n"
   ]
  },
  {
   "cell_type": "code",
   "execution_count": 99,
   "metadata": {},
   "outputs": [],
   "source": [
    "def get_relative_position(image_1, image_2, properties):\n",
    "    image1_shape = image_1['image'].shape\n",
    "    image2_shape = image_2['image'].shape\n",
    "    \n",
    "    if len(properties) > 0:\n",
    "        last_property = properties[-1]\n",
    "    else:\n",
    "        last_property = (None, None)\n",
    "    \n",
    "    image1_h = image1_shape[0]\n",
    "    image2_h = image2_shape[0]\n",
    "    \n",
    "    positiony1 = image_1['position'][0]\n",
    "    positionx1 = image_1['position'][1]\n",
    "    \n",
    "    positiony2 = image_2['position'][0]\n",
    "    positionx2 = image_2['position'][1]\n",
    "    \n",
    "    centery1, centerx1 = seg_hf.get_center_from_image(image_1)\n",
    "    centery2, centerx2 = seg_hf.get_center_from_image(image_2) \n",
    "    \n",
    "    # Below, above, sup or sub\n",
    "    \n",
    "    if last_property[0] == \"SUBRIGHT\":\n",
    "        if positiony2 < last_property[1] + 3:\n",
    "            properties.pop()\n",
    "            return (\"PREVIOUS\", properties)\n",
    "        \n",
    "    if last_property[0] == \"SUPRIGHT\":\n",
    "        if positiony2 + image2_h > last_property[1] - 3:\n",
    "            properties.pop()\n",
    "            return (\"PREVIOUS\", properties)\n",
    "    \n",
    "    if image2_h < image1_h:\n",
    "        ## Below\n",
    "        if (centerx2 > positionx1) and centerx2 < positionx1+image1_shape[1] and positiony2 > positiony1 + image1_shape[0]:\n",
    "            return (\"BELOW\", properties)\n",
    "\n",
    "        ## Above\n",
    "        if centerx2 > positionx1 and centerx2 < positionx1+image1_shape[1] and positiony2 + image2_shape[0] < positiony1:\n",
    "            return (\"ABOVE\", properties)\n",
    "\n",
    "\n",
    "        ## Subscript right\n",
    "        if centerx1 < positionx2 and positiony2 > centery1:\n",
    "            properties.append((\"SUBRIGHT\", centery1))\n",
    "            return (\"SUBRIGHT\", properties)\n",
    "\n",
    "        ## Superscript right\n",
    "        if centerx1 < positionx2 and positiony2+image2_shape[0] < centery1:\n",
    "            properties.append((\"SUPRIGHT\", centery1))\n",
    "            return (\"SUPRIGHT\", properties)\n",
    "        \n",
    "    ## To the right\n",
    "    return (\"RIGHT\", properties)"
   ]
  },
  {
   "cell_type": "code",
   "execution_count": 100,
   "metadata": {},
   "outputs": [],
   "source": [
    "equation_image = equation_images[4]\n"
   ]
  },
  {
   "cell_type": "code",
   "execution_count": null,
   "metadata": {},
   "outputs": [],
   "source": []
  },
  {
   "cell_type": "code",
   "execution_count": 101,
   "metadata": {},
   "outputs": [],
   "source": [
    "#for imgg in rules_applied:\n",
    "    #plt.imshow(imgg['image'])\n",
    "    #plt.show()\n"
   ]
  },
  {
   "cell_type": "code",
   "execution_count": 102,
   "metadata": {},
   "outputs": [],
   "source": [
    "def sort_images(images):\n",
    "    newlist = sorted(images, key=lambda k: k['id']) \n",
    "    return newlist\n",
    "\n",
    "def structural_analysis_and_latex(images):\n",
    "\n",
    "    images = sort_images(images)\n",
    "\n",
    "    latex_string = \"\"\n",
    "    prop = []\n",
    "    for idx in range(len(images)):\n",
    "        if idx == len(images) - 1:\n",
    "            latex = seg_hf.get_latex(images[idx]['predicted_token'])\n",
    "            latex_string += \" \" + latex\n",
    "            if len(prop) != 0:\n",
    "                latex_string += \" }\"\n",
    "            break\n",
    "\n",
    "\n",
    "        rel_pos, props = get_relative_position(images[idx], images[idx+1], prop)\n",
    "        prop = props\n",
    "\n",
    "\n",
    "        latex = seg_hf.get_latex(images[idx]['predicted_token'])\n",
    "\n",
    "        latex_string += \" \" + latex\n",
    "        if rel_pos == \"SUBRIGHT\":\n",
    "            latex_string += \"_{\"\n",
    "        elif rel_pos == \"PREVIOUS\":\n",
    "            latex_string += \" }\"\n",
    "        elif rel_pos ==\"SUPRIGHT\":\n",
    "            latex_string += \"^{\"\n",
    "        print(rel_pos)\n",
    "    \n",
    "    return latex_string\n"
   ]
  },
  {
   "cell_type": "code",
   "execution_count": 103,
   "metadata": {},
   "outputs": [],
   "source": [
    "def image_to_latex(equation_image, show_segmentation=False, show_each_symbol=False):\n",
    "    img_with_positions = rpc.segment_equation(equation_image)\n",
    "    predicted_images = predict_smaller_images(img_with_positions, orig_shape)\n",
    "    rules_applied = apply_rules(predicted_images)\n",
    "    if show_segmentation:\n",
    "        ims= sort_images(rules_applied)\n",
    "        show_segmented_equation(equation_image, ims, show_each_symbol=show_each_symbol)\n",
    "    return structural_analysis_and_latex(rules_applied)"
   ]
  },
  {
   "cell_type": "code",
   "execution_count": null,
   "metadata": {},
   "outputs": [],
   "source": []
  },
  {
   "cell_type": "code",
   "execution_count": null,
   "metadata": {},
   "outputs": [],
   "source": []
  },
  {
   "cell_type": "code",
   "execution_count": null,
   "metadata": {},
   "outputs": [],
   "source": []
  },
  {
   "cell_type": "code",
   "execution_count": 104,
   "metadata": {},
   "outputs": [],
   "source": [
    "\n",
    "#hex_to_token_dict[reverse_target_token_index[id_token]]"
   ]
  },
  {
   "cell_type": "code",
   "execution_count": 105,
   "metadata": {},
   "outputs": [],
   "source": [
    "equation_image = equation_images[4]"
   ]
  },
  {
   "cell_type": "code",
   "execution_count": 109,
   "metadata": {},
   "outputs": [
    {
     "name": "stdout",
     "output_type": "stream",
     "text": [
      "Is on top\n"
     ]
    },
    {
     "data": {
      "image/png": "[encoded data removed]",
      "text/plain": [
       "<matplotlib.figure.Figure at 0x412fad090>"
      ]
     },
     "metadata": {},
     "output_type": "display_data"
    },
    {
     "data": {
      "image/png": "[encoded data removed]",
      "text/plain": [
       "<matplotlib.figure.Figure at 0x41380b490>"
      ]
     },
     "metadata": {},
     "output_type": "display_data"
    },
    {
     "name": "stdout",
     "output_type": "stream",
     "text": [
      "SUBRIGHT\n",
      "PREVIOUS\n",
      "RIGHT\n",
      "RIGHT\n",
      "RIGHT\n",
      "RIGHT\n",
      "RIGHT\n",
      "RIGHT\n",
      "RIGHT\n",
      "RIGHT\n",
      "RIGHT\n",
      "RIGHT\n",
      "SUBRIGHT\n",
      "PREVIOUS\n",
      " D_{ w } = \\RightBracket w \\in D \\LeftBracket B \\in w > c_{ 0 } \\RightBrace\n"
     ]
    }
   ],
   "source": [
    "print(image_to_latex(equation_image, show_segmentation=True, show_each_symbol=False))"
   ]
  },
  {
   "cell_type": "code",
   "execution_count": null,
   "metadata": {},
   "outputs": [],
   "source": []
  },
  {
   "cell_type": "code",
   "execution_count": null,
   "metadata": {},
   "outputs": [],
   "source": [
    "\n",
    "\n",
    "\n",
    "\n",
    "\n",
    "    \n",
    "print(latex_string)"
   ]
  },
  {
   "cell_type": "code",
   "execution_count": null,
   "metadata": {},
   "outputs": [],
   "source": [
    "for img in rules_applied:\n",
    "    plt.imshow(img['image'], cmap='gray')\n",
    "    plt.show()"
   ]
  },
  {
   "cell_type": "code",
   "execution_count": null,
   "metadata": {},
   "outputs": [],
   "source": [
    "rules_applied\n",
    "\n",
    "pairs_of_images = all_pairs(rules_applied)\n",
    "\n",
    "# edge (id1, id2, )\n",
    "\n",
    "\n",
    "    "
   ]
  }
 ],
 "metadata": {
  "kernelspec": {
   "display_name": "Python 2",
   "language": "python",
   "name": "python2"
  },
  "language_info": {
   "codemirror_mode": {
    "name": "ipython",
    "version": 2
   },
   "file_extension": ".py",
   "mimetype": "text/x-python",
   "name": "python",
   "nbconvert_exporter": "python",
   "pygments_lexer": "ipython2",
   "version": "2.7.14"
  }
 },
 "nbformat": 4,
 "nbformat_minor": 2
}
